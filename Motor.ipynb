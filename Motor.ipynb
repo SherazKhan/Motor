{
  "nbformat": 4,
  "nbformat_minor": 0,
  "metadata": {
    "kernelspec": {
      "display_name": "Python 3",
      "language": "python",
      "name": "python3"
    },
    "language_info": {
      "codemirror_mode": {
        "name": "ipython",
        "version": 3
      },
      "file_extension": ".py",
      "mimetype": "text/x-python",
      "name": "python",
      "nbconvert_exporter": "python",
      "pygments_lexer": "ipython3",
      "version": "3.7.4"
    },
    "colab": {
      "name": "Motor.ipynb",
      "provenance": [],
      "include_colab_link": true
    },
    "accelerator": "GPU"
  },
  "cells": [
    {
      "cell_type": "markdown",
      "metadata": {
        "id": "view-in-github",
        "colab_type": "text"
      },
      "source": [
        "<a href=\"https://colab.research.google.com/github/SherazKhan/Motor/blob/master/Motor.ipynb\" target=\"_parent\"><img src=\"https://colab.research.google.com/assets/colab-badge.svg\" alt=\"Open In Colab\"/></a>"
      ]
    },
    {
      "cell_type": "markdown",
      "metadata": {
        "id": "zjzkmNnnYs2E"
      },
      "source": [
        "<img src='https://github.com/SherazKhan/Motor/blob/master/human-activity.jpg?raw=1'>"
      ]
    },
    {
      "cell_type": "markdown",
      "metadata": {
        "id": "L6vPTuArYs2E"
      },
      "source": [
        "<br>\n",
        "<center>    \n",
        "    <h1> Human Activity Recognition </h1>    \n",
        "</center>\n",
        "<br>"
      ]
    },
    {
      "cell_type": "markdown",
      "metadata": {
        "id": "YFZiEVp2Ys2F"
      },
      "source": [
        "<br>\n",
        "\n",
        "https://medium.com/@rubeen.786.mr/human-activity-recognition-har-db5c1432cd98\n",
        "\n",
        "The main idea for this notebook is to build a model that predicts the human activities such as Walking, Walking_Upstairs, Walking_Downstairs, Sitting, Standing or Laying.\n",
        "\n",
        "This dataset is collected from 30 persons(referred as subjects in this dataset), performing different activities with a smartphone to their waists. The data is recorded with the help of sensors (accelerometer and Gyroscope) in that smartphone. This experiment was video recorded to label the data manually.\n",
        "\n",
        "This dataset is downloaded from:\n",
        "\n",
        "http://archive.ics.uci.edu/ml/datasets/human+activity+recognition+using+smartphones\n",
        "\n",
        "## How data was recorded\n",
        "\n",
        "By using the sensors(Gyroscope and accelerometer) in a smartphone, they have captured '3-axial linear acceleration'(_tAcc-XYZ_) from accelerometer and '3-axial angular velocity' (_tGyro-XYZ_) from Gyroscope with several variations. \n",
        "\n",
        "> prefix 't' in those metrics denotes time.\n",
        "\n",
        "> suffix 'XYZ' represents 3-axial signals in X , Y, and Z directions.\n",
        "\n",
        "### Feature names\n",
        "\n",
        "1. These sensor signals are preprocessed by applying noise filters and then sampled in fixed-width windows(sliding windows) of 2.56 seconds each with 50% overlap. ie., each window has 128 readings. \n",
        "\n",
        "2. From Each window, a feature vector was obtianed by calculating variables from the time and frequency domain.\n",
        "> In our dataset, each datapoint represents a window with different readings \n",
        "3. The accelertion signal was saperated into Body and Gravity acceleration signals(___tBodyAcc-XYZ___ and ___tGravityAcc-XYZ___) using some low pass filter with corner frequecy of 0.3Hz.\n",
        "\n",
        "4. After that, the body linear acceleration and angular velocity were derived in time to obtian _jerk signals_ (___tBodyAccJerk-XYZ___ and ___tBodyGyroJerk-XYZ___). \n",
        "\n",
        "5. The magnitude of these 3-dimensional signals were calculated using the Euclidian norm. This magnitudes are represented as features with names like _tBodyAccMag_, _tGravityAccMag_, _tBodyAccJerkMag_, _tBodyGyroMag_ and _tBodyGyroJerkMag_.\n",
        "\n",
        "6. Finally, We've got frequency domain signals from some of the available signals by applying a FFT (Fast Fourier Transform). These signals obtained were labeled with ___prefix 'f'___ just like original signals with ___prefix 't'___. These signals are labeled as ___fBodyAcc-XYZ___, ___fBodyGyroMag___ etc.,.\n",
        "\n",
        "7. These are the signals that we got so far.\n",
        "\t+ tBodyAcc-XYZ\n",
        "\t+ tGravityAcc-XYZ\n",
        "\t+ tBodyAccJerk-XYZ\n",
        "\t+ tBodyGyro-XYZ\n",
        "\t+ tBodyGyroJerk-XYZ\n",
        "\t+ tBodyAccMag\n",
        "\t+ tGravityAccMag\n",
        "\t+ tBodyAccJerkMag\n",
        "\t+ tBodyGyroMag\n",
        "\t+ tBodyGyroJerkMag\n",
        "\t+ fBodyAcc-XYZ\n",
        "\t+ fBodyAccJerk-XYZ\n",
        "\t+ fBodyGyro-XYZ\n",
        "\t+ fBodyAccMag\n",
        "\t+ fBodyAccJerkMag\n",
        "\t+ fBodyGyroMag\n",
        "\t+ fBodyGyroJerkMag\n",
        "\n",
        "8. We can esitmate some set of variables from the above signals. ie., We will estimate the following properties on each and every signal that we recoreded so far.\n",
        "\n",
        "\t+ ___mean()___: Mean value\n",
        "\t+ ___std()___: Standard deviation\n",
        "\t+ ___mad()___: Median absolute deviation \n",
        "\t+ ___max()___: Largest value in array\n",
        "\t+ ___min()___: Smallest value in array\n",
        "\t+ ___sma()___: Signal magnitude area\n",
        "\t+ ___energy()___: Energy measure. Sum of the squares divided by the number of values. \n",
        "\t+ ___iqr()___: Interquartile range \n",
        "\t+ ___entropy()___: Signal entropy\n",
        "\t+ ___arCoeff()___: Autorregresion coefficients with Burg order equal to 4\n",
        "\t+ ___correlation()___: correlation coefficient between two signals\n",
        "\t+ ___maxInds()___: index of the frequency component with largest magnitude\n",
        "\t+ ___meanFreq()___: Weighted average of the frequency components to obtain a mean frequency\n",
        "\t+ ___skewness()___: skewness of the frequency domain signal \n",
        "\t+ ___kurtosis()___: kurtosis of the frequency domain signal \n",
        "\t+ ___bandsEnergy()___: Energy of a frequency interval within the 64 bins of the FFT of each window.\n",
        "\t+ ___angle()___: Angle between to vectors.\n",
        "\n",
        "9. We can obtain some other vectors by taking the average of signals in a single window sample. These are used on the angle() variable'\n",
        "`\n",
        "\t+ gravityMean\n",
        "\t+ tBodyAccMean\n",
        "\t+ tBodyAccJerkMean\n",
        "\t+ tBodyGyroMean\n",
        "\t+ tBodyGyroJerkMean\n",
        "\n",
        "\n",
        "###  Y_Labels(Encoded)\n",
        "+ In the dataset, Y_labels are represented as numbers from 1 to 6 as their identifiers.\n",
        "\n",
        "\t- WALKING as __1__\n",
        "\t- WALKING_UPSTAIRS as __2__\n",
        "\t- WALKING_DOWNSTAIRS as __3__\n",
        "\t- SITTING as __4__\n",
        "\t- STANDING as __5__\n",
        "\t- LAYING as __6__\n",
        "    \n",
        "## Train and test data were saperated\n",
        " - The readings from ___70%___ of the volunteers were taken as ___trianing data___ and remaining ___30%___ subjects recordings were taken for ___test data___\n",
        " \n",
        "## Data\n",
        "\n",
        "* All the data is present in 'UCI_HAR_dataset/' folder in present working directory.\n",
        "     - Feature names are present in 'UCI_HAR_dataset/features.txt'\n",
        "     - ___Train Data___\n",
        "         - 'UCI_HAR_dataset/train/X_train.txt'\n",
        "         - 'UCI_HAR_dataset/train/subject_train.txt'\n",
        "         - 'UCI_HAR_dataset/train/y_train.txt'\n",
        "     - ___Test Data___\n",
        "         - 'UCI_HAR_dataset/test/X_test.txt'\n",
        "         - 'UCI_HAR_dataset/test/subject_test.txt'\n",
        "         - 'UCI_HAR_dataset/test/y_test.txt'\n",
        "         \n",
        "\n",
        "## Data Size :\n",
        "> 282 MB\n"
      ]
    },
    {
      "cell_type": "code",
      "metadata": {
        "id": "X5-FYy9OboBa",
        "outputId": "1de8f756-8c41-4d6d-932a-bbc6742c146e",
        "colab": {
          "base_uri": "https://localhost:8080/",
          "height": 503
        }
      },
      "source": [
        "#from google.colab import drive\n",
        "#drive.mount('/content/drive')\n",
        "!pip install pandas==0.20.0\n"
      ],
      "execution_count": 2,
      "outputs": [
        {
          "output_type": "stream",
          "text": [
            "Collecting pandas==0.20.0\n",
            "  Using cached https://files.pythonhosted.org/packages/0a/1a/11c05627ba733c40ab38ec7c693bb0a145ad5ad88bcfc8c9e99764cc4c2b/pandas-0.20.0.tar.gz\n",
            "Requirement already satisfied: python-dateutil>=2 in /usr/local/lib/python3.6/dist-packages (from pandas==0.20.0) (2.8.1)\n",
            "Requirement already satisfied: pytz>=2011k in /usr/local/lib/python3.6/dist-packages (from pandas==0.20.0) (2018.9)\n",
            "Requirement already satisfied: numpy>=1.7.0 in /usr/local/lib/python3.6/dist-packages (from pandas==0.20.0) (1.18.5)\n",
            "Requirement already satisfied: six>=1.5 in /usr/local/lib/python3.6/dist-packages (from python-dateutil>=2->pandas==0.20.0) (1.15.0)\n",
            "Building wheels for collected packages: pandas\n",
            "  Building wheel for pandas (setup.py) ... \u001b[?25l\u001b[?25hdone\n",
            "  Created wheel for pandas: filename=pandas-0.20.0-cp36-cp36m-linux_x86_64.whl size=21818332 sha256=a45a35ed71e160678efd4543a684f139c69469a7e6a91dd9ef78c6428408bdd0\n",
            "  Stored in directory: /root/.cache/pip/wheels/b7/c9/bc/1be20e008803759282fd4fb0bc2453947643ffff7b38219d4e\n",
            "Successfully built pandas\n",
            "\u001b[31mERROR: xarray 0.15.1 has requirement pandas>=0.25, but you'll have pandas 0.20.0 which is incompatible.\u001b[0m\n",
            "\u001b[31mERROR: seaborn 0.10.1 has requirement pandas>=0.22.0, but you'll have pandas 0.20.0 which is incompatible.\u001b[0m\n",
            "\u001b[31mERROR: plotnine 0.6.0 has requirement pandas>=0.25.0, but you'll have pandas 0.20.0 which is incompatible.\u001b[0m\n",
            "\u001b[31mERROR: pandas-datareader 0.8.1 has requirement pandas>=0.21, but you'll have pandas 0.20.0 which is incompatible.\u001b[0m\n",
            "\u001b[31mERROR: mizani 0.6.0 has requirement pandas>=0.25.0, but you'll have pandas 0.20.0 which is incompatible.\u001b[0m\n",
            "\u001b[31mERROR: google-colab 1.0.0 has requirement pandas~=1.0.0; python_version >= \"3.0\", but you'll have pandas 0.20.0 which is incompatible.\u001b[0m\n",
            "\u001b[31mERROR: fbprophet 0.7.1 has requirement pandas>=1.0.4, but you'll have pandas 0.20.0 which is incompatible.\u001b[0m\n",
            "Installing collected packages: pandas\n",
            "  Found existing installation: pandas 1.0.5\n",
            "    Uninstalling pandas-1.0.5:\n",
            "      Successfully uninstalled pandas-1.0.5\n",
            "Successfully installed pandas-0.20.0\n"
          ],
          "name": "stdout"
        },
        {
          "output_type": "display_data",
          "data": {
            "application/vnd.colab-display-data+json": {
              "pip_warning": {
                "packages": [
                  "pandas"
                ]
              }
            }
          },
          "metadata": {
            "tags": []
          }
        }
      ]
    },
    {
      "cell_type": "code",
      "metadata": {
        "id": "g3OExQLXwMDO",
        "outputId": "d5d958bc-81b8-4ee2-fc07-f29d427b023f",
        "colab": {
          "base_uri": "https://localhost:8080/",
          "height": 138
        }
      },
      "source": [
        "!git clone https://github.com/SherazKhan/Motor.git"
      ],
      "execution_count": 1,
      "outputs": [
        {
          "output_type": "stream",
          "text": [
            "Cloning into 'Motor'...\n",
            "remote: Enumerating objects: 15, done.\u001b[K\n",
            "remote: Counting objects: 100% (15/15), done.\u001b[K\n",
            "remote: Compressing objects: 100% (15/15), done.\u001b[K\n",
            "remote: Total 63 (delta 8), reused 0 (delta 0), pack-reused 48\u001b[K\n",
            "Unpacking objects: 100% (63/63), done.\n",
            "Checking out files: 100% (40/40), done.\n"
          ],
          "name": "stdout"
        }
      ]
    },
    {
      "cell_type": "markdown",
      "metadata": {
        "id": "oqATFbCgYs2J"
      },
      "source": [
        "# Quick overview of the dataset :\n"
      ]
    },
    {
      "cell_type": "markdown",
      "metadata": {
        "id": "QQWctqUOYs2J"
      },
      "source": [
        "\n",
        "* Accelerometer and Gyroscope readings are taken from 30 volunteers(referred as subjects) while performing the following 6 Activities.\n",
        "\n",
        "    1. Walking     \n",
        "    2. WalkingUpstairs \n",
        "    3. WalkingDownstairs \n",
        "    4. Standing \n",
        "    5. Sitting \n",
        "    6. Lying.\n",
        "\n",
        "\n",
        "* Readings are divided into a window of 2.56 seconds with 50% overlapping. \n",
        "\n",
        "* Accelerometer readings are divided into gravity acceleration and body acceleration readings,\n",
        "  which has x,y and z components each.\n",
        "\n",
        "* Gyroscope readings are the measure of angular velocities which has x,y and z components.\n",
        "\n",
        "* Jerk signals are calculated for BodyAcceleration readings.\n",
        "\n",
        "* Fourier Transforms are made on the above time readings to obtain frequency readings.\n",
        "\n",
        "* Now, on all the base signal readings., mean, max, mad, sma, arcoefficient, engerybands,entropy etc., are calculated for each window.\n",
        "\n",
        "* We get a feature vector of 561 features and these features are given in the dataset.\n",
        "\n",
        "* Each window of readings is a datapoint of 561 features.\n",
        "\n",
        "## Problem Framework\n",
        "\n",
        "* 30 subjects(volunteers) data is randomly split to 70%(21) test and 30%(7) train data.\n",
        "* Each datapoint corresponds one of the 6 Activities.\n"
      ]
    },
    {
      "cell_type": "markdown",
      "metadata": {
        "id": "EQ8wz0EYYs2J"
      },
      "source": [
        "## Problem Statement\n",
        "\n",
        " + Given a new datapoint we have to predict the Activity"
      ]
    },
    {
      "cell_type": "markdown",
      "metadata": {
        "id": "BAjOEFGjYs2K"
      },
      "source": [
        " "
      ]
    },
    {
      "cell_type": "code",
      "metadata": {
        "id": "Kj9vF5YyYs2K"
      },
      "source": [
        "import warnings\n",
        "warnings.filterwarnings(\"ignore\")\n",
        "warnings.simplefilter(action='ignore', category=FutureWarning)\n",
        "warnings.simplefilter(action='ignore', category=UserWarning)\n",
        "\n",
        "import itertools\n",
        "from datetime import datetime\n",
        "import numpy as np\n",
        "import pandas as pd\n",
        "import matplotlib.pyplot as plt\n",
        "plt.rcParams[\"font.family\"] = 'DejaVu Sans'\n",
        "import seaborn as sns\n",
        "\n",
        "# To be able to save images on server\n",
        "import matplotlib\n",
        "%matplotlib inline\n",
        "from matplotlib import pyplot\n",
        "\n",
        "from sklearn.manifold import TSNE\n",
        "from sklearn.metrics import confusion_matrix\n",
        "from sklearn import linear_model\n",
        "from sklearn import metrics\n",
        "from sklearn.model_selection import GridSearchCV\n",
        "from sklearn.svm import LinearSVC\n",
        "from sklearn.svm import SVC\n",
        "from sklearn.tree import DecisionTreeClassifier\n",
        "from sklearn.ensemble import RandomForestClassifier\n",
        "from sklearn.ensemble import GradientBoostingClassifier\n",
        "\n",
        "# Importing tensorflow\n",
        "np.random.seed(42)\n",
        "import tensorflow as tf\n",
        "\n",
        "\n",
        "from keras import backend as K\n",
        "from keras.models import Sequential\n",
        "from keras.layers import LSTM , BatchNormalization\n",
        "from keras.layers.core import Dense, Dropout\n",
        "from keras.regularizers import L1L2"
      ],
      "execution_count": 2,
      "outputs": []
    },
    {
      "cell_type": "code",
      "metadata": {
        "id": "NpT-CkCFYs2N",
        "outputId": "392a0711-9746-4f1c-f0e9-9f1349eab3ba",
        "colab": {
          "base_uri": "https://localhost:8080/",
          "height": 51
        }
      },
      "source": [
        "# get the features from the file features.txt\n",
        "features = list()\n",
        "\n",
        "with open('/content/Motor/UCI_HAR_dataset/features.txt') as f:\n",
        "    features = [line.split()[1] for line in f.readlines()]\n",
        "print('No of Features: {}'.format(len(features)))\n",
        "import tensorflow as tf; print(tf.__version__)"
      ],
      "execution_count": 7,
      "outputs": [
        {
          "output_type": "stream",
          "text": [
            "No of Features: 561\n",
            "2.3.0\n"
          ],
          "name": "stdout"
        }
      ]
    },
    {
      "cell_type": "markdown",
      "metadata": {
        "id": "jSLzv6ivYs2P"
      },
      "source": [
        "## Obtain the  train data "
      ]
    },
    {
      "cell_type": "code",
      "metadata": {
        "id": "SB_ZhB9AYs2Q",
        "outputId": "f95d1768-272b-443c-8f5d-2a5d52913c46",
        "colab": {
          "base_uri": "https://localhost:8080/",
          "height": 146
        }
      },
      "source": [
        "# get the data from txt files to pandas dataffame\n",
        "X_train = pd.read_csv('/content/Motor/UCI_HAR_dataset/train/X_train.txt', delim_whitespace=True, header=None, names=features)\n",
        "\n",
        "# add subject column to the dataframe\n",
        "X_train['subject'] = pd.read_csv('/content/Motor/UCI_HAR_dataset/train/subject_train.txt', header=None, squeeze=True)\n",
        "\n",
        "y_train = pd.read_csv('/content/Motor/UCI_HAR_dataset/train/y_train.txt', names=['Activity'], squeeze=True)\n",
        "y_train_labels = y_train.map({1: 'WALKING', 2:'WALKING_UPSTAIRS',3:'WALKING_DOWNSTAIRS',\\\n",
        "                       4:'SITTING', 5:'STANDING',6:'LAYING'})\n",
        "\n",
        "# put all columns in a single dataframe\n",
        "train = X_train\n",
        "train['Activity'] = y_train\n",
        "train['ActivityName'] = y_train_labels\n",
        "train.sample()"
      ],
      "execution_count": null,
      "outputs": [
        {
          "output_type": "execute_result",
          "data": {
            "text/html": [
              "<div>\n",
              "<style>\n",
              "    .dataframe thead tr:only-child th {\n",
              "        text-align: right;\n",
              "    }\n",
              "\n",
              "    .dataframe thead th {\n",
              "        text-align: left;\n",
              "    }\n",
              "\n",
              "    .dataframe tbody tr th {\n",
              "        vertical-align: top;\n",
              "    }\n",
              "</style>\n",
              "<table border=\"1\" class=\"dataframe\">\n",
              "  <thead>\n",
              "    <tr style=\"text-align: right;\">\n",
              "      <th></th>\n",
              "      <th>tBodyAcc-mean()-X</th>\n",
              "      <th>tBodyAcc-mean()-Y</th>\n",
              "      <th>tBodyAcc-mean()-Z</th>\n",
              "      <th>tBodyAcc-std()-X</th>\n",
              "      <th>tBodyAcc-std()-Y</th>\n",
              "      <th>tBodyAcc-std()-Z</th>\n",
              "      <th>tBodyAcc-mad()-X</th>\n",
              "      <th>tBodyAcc-mad()-Y</th>\n",
              "      <th>tBodyAcc-mad()-Z</th>\n",
              "      <th>tBodyAcc-max()-X</th>\n",
              "      <th>...</th>\n",
              "      <th>angle(tBodyAccMean,gravity)</th>\n",
              "      <th>angle(tBodyAccJerkMean),gravityMean)</th>\n",
              "      <th>angle(tBodyGyroMean,gravityMean)</th>\n",
              "      <th>angle(tBodyGyroJerkMean,gravityMean)</th>\n",
              "      <th>angle(X,gravityMean)</th>\n",
              "      <th>angle(Y,gravityMean)</th>\n",
              "      <th>angle(Z,gravityMean)</th>\n",
              "      <th>subject</th>\n",
              "      <th>Activity</th>\n",
              "      <th>ActivityName</th>\n",
              "    </tr>\n",
              "  </thead>\n",
              "  <tbody>\n",
              "    <tr>\n",
              "      <th>4525</th>\n",
              "      <td>0.283203</td>\n",
              "      <td>-0.047024</td>\n",
              "      <td>-0.168986</td>\n",
              "      <td>0.384949</td>\n",
              "      <td>0.176898</td>\n",
              "      <td>-0.310332</td>\n",
              "      <td>0.381757</td>\n",
              "      <td>0.122611</td>\n",
              "      <td>-0.332984</td>\n",
              "      <td>0.465563</td>\n",
              "      <td>...</td>\n",
              "      <td>-0.034924</td>\n",
              "      <td>0.558036</td>\n",
              "      <td>0.258975</td>\n",
              "      <td>-0.854858</td>\n",
              "      <td>-0.78433</td>\n",
              "      <td>0.22296</td>\n",
              "      <td>-0.066506</td>\n",
              "      <td>22</td>\n",
              "      <td>3</td>\n",
              "      <td>WALKING_DOWNSTAIRS</td>\n",
              "    </tr>\n",
              "  </tbody>\n",
              "</table>\n",
              "<p>1 rows × 564 columns</p>\n",
              "</div>"
            ],
            "text/plain": [
              "      tBodyAcc-mean()-X  tBodyAcc-mean()-Y  tBodyAcc-mean()-Z  \\\n",
              "4525           0.283203          -0.047024          -0.168986   \n",
              "\n",
              "      tBodyAcc-std()-X  tBodyAcc-std()-Y  tBodyAcc-std()-Z  tBodyAcc-mad()-X  \\\n",
              "4525          0.384949          0.176898         -0.310332          0.381757   \n",
              "\n",
              "      tBodyAcc-mad()-Y  tBodyAcc-mad()-Z  tBodyAcc-max()-X  \\\n",
              "4525          0.122611         -0.332984          0.465563   \n",
              "\n",
              "             ...          angle(tBodyAccMean,gravity)  \\\n",
              "4525         ...                            -0.034924   \n",
              "\n",
              "      angle(tBodyAccJerkMean),gravityMean)  angle(tBodyGyroMean,gravityMean)  \\\n",
              "4525                              0.558036                          0.258975   \n",
              "\n",
              "      angle(tBodyGyroJerkMean,gravityMean)  angle(X,gravityMean)  \\\n",
              "4525                             -0.854858              -0.78433   \n",
              "\n",
              "      angle(Y,gravityMean)  angle(Z,gravityMean)  subject  Activity  \\\n",
              "4525               0.22296             -0.066506       22         3   \n",
              "\n",
              "            ActivityName  \n",
              "4525  WALKING_DOWNSTAIRS  \n",
              "\n",
              "[1 rows x 564 columns]"
            ]
          },
          "metadata": {
            "tags": []
          },
          "execution_count": 8
        }
      ]
    },
    {
      "cell_type": "code",
      "metadata": {
        "scrolled": true,
        "id": "H1CEv1X0Ys2S",
        "outputId": "07c77897-e1c6-41a5-94e1-d2a1b2aad243",
        "colab": {
          "base_uri": "https://localhost:8080/",
          "height": 35
        }
      },
      "source": [
        "train.shape"
      ],
      "execution_count": null,
      "outputs": [
        {
          "output_type": "execute_result",
          "data": {
            "text/plain": [
              "(7352, 564)"
            ]
          },
          "metadata": {
            "tags": []
          },
          "execution_count": 9
        }
      ]
    },
    {
      "cell_type": "markdown",
      "metadata": {
        "id": "wo8yNH5vYs2U"
      },
      "source": [
        "## Obtain the  test data "
      ]
    },
    {
      "cell_type": "code",
      "metadata": {
        "id": "rQ9MbAqKYs2U",
        "outputId": "0801cf7c-abde-422b-8324-f7ee37319344",
        "colab": {
          "base_uri": "https://localhost:8080/",
          "height": 146
        }
      },
      "source": [
        "# get the data from txt files to pandas dataffame\n",
        "X_test = pd.read_csv('/content/Motor/UCI_HAR_dataset/test/X_test.txt', delim_whitespace=True, header=None, names=features)\n",
        "\n",
        "# add subject column to the dataframe\n",
        "X_test['subject'] = pd.read_csv('/content/Motor/UCI_HAR_dataset/test/subject_test.txt', header=None, squeeze=True)\n",
        "\n",
        "# get y labels from the txt file\n",
        "y_test = pd.read_csv('/content/Motor/UCI_HAR_dataset/test/y_test.txt', names=['Activity'], squeeze=True)\n",
        "y_test_labels = y_test.map({1: 'WALKING', 2:'WALKING_UPSTAIRS',3:'WALKING_DOWNSTAIRS',\\\n",
        "                       4:'SITTING', 5:'STANDING',6:'LAYING'})\n",
        "\n",
        "\n",
        "# put all columns in a single dataframe\n",
        "test = X_test\n",
        "test['Activity'] = y_test\n",
        "test['ActivityName'] = y_test_labels\n",
        "test.sample()"
      ],
      "execution_count": null,
      "outputs": [
        {
          "output_type": "execute_result",
          "data": {
            "text/html": [
              "<div>\n",
              "<style>\n",
              "    .dataframe thead tr:only-child th {\n",
              "        text-align: right;\n",
              "    }\n",
              "\n",
              "    .dataframe thead th {\n",
              "        text-align: left;\n",
              "    }\n",
              "\n",
              "    .dataframe tbody tr th {\n",
              "        vertical-align: top;\n",
              "    }\n",
              "</style>\n",
              "<table border=\"1\" class=\"dataframe\">\n",
              "  <thead>\n",
              "    <tr style=\"text-align: right;\">\n",
              "      <th></th>\n",
              "      <th>tBodyAcc-mean()-X</th>\n",
              "      <th>tBodyAcc-mean()-Y</th>\n",
              "      <th>tBodyAcc-mean()-Z</th>\n",
              "      <th>tBodyAcc-std()-X</th>\n",
              "      <th>tBodyAcc-std()-Y</th>\n",
              "      <th>tBodyAcc-std()-Z</th>\n",
              "      <th>tBodyAcc-mad()-X</th>\n",
              "      <th>tBodyAcc-mad()-Y</th>\n",
              "      <th>tBodyAcc-mad()-Z</th>\n",
              "      <th>tBodyAcc-max()-X</th>\n",
              "      <th>...</th>\n",
              "      <th>angle(tBodyAccMean,gravity)</th>\n",
              "      <th>angle(tBodyAccJerkMean),gravityMean)</th>\n",
              "      <th>angle(tBodyGyroMean,gravityMean)</th>\n",
              "      <th>angle(tBodyGyroJerkMean,gravityMean)</th>\n",
              "      <th>angle(X,gravityMean)</th>\n",
              "      <th>angle(Y,gravityMean)</th>\n",
              "      <th>angle(Z,gravityMean)</th>\n",
              "      <th>subject</th>\n",
              "      <th>Activity</th>\n",
              "      <th>ActivityName</th>\n",
              "    </tr>\n",
              "  </thead>\n",
              "  <tbody>\n",
              "    <tr>\n",
              "      <th>718</th>\n",
              "      <td>0.3659</td>\n",
              "      <td>-0.031332</td>\n",
              "      <td>-0.024079</td>\n",
              "      <td>0.183421</td>\n",
              "      <td>-0.344568</td>\n",
              "      <td>-0.403268</td>\n",
              "      <td>0.09989</td>\n",
              "      <td>-0.3422</td>\n",
              "      <td>-0.412337</td>\n",
              "      <td>0.4803</td>\n",
              "      <td>...</td>\n",
              "      <td>-0.37837</td>\n",
              "      <td>-0.840289</td>\n",
              "      <td>-0.864326</td>\n",
              "      <td>0.848585</td>\n",
              "      <td>-0.960939</td>\n",
              "      <td>0.116422</td>\n",
              "      <td>-0.003858</td>\n",
              "      <td>9</td>\n",
              "      <td>3</td>\n",
              "      <td>WALKING_DOWNSTAIRS</td>\n",
              "    </tr>\n",
              "  </tbody>\n",
              "</table>\n",
              "<p>1 rows × 564 columns</p>\n",
              "</div>"
            ],
            "text/plain": [
              "     tBodyAcc-mean()-X  tBodyAcc-mean()-Y  tBodyAcc-mean()-Z  \\\n",
              "718             0.3659          -0.031332          -0.024079   \n",
              "\n",
              "     tBodyAcc-std()-X  tBodyAcc-std()-Y  tBodyAcc-std()-Z  tBodyAcc-mad()-X  \\\n",
              "718          0.183421         -0.344568         -0.403268           0.09989   \n",
              "\n",
              "     tBodyAcc-mad()-Y  tBodyAcc-mad()-Z  tBodyAcc-max()-X         ...          \\\n",
              "718           -0.3422         -0.412337            0.4803         ...           \n",
              "\n",
              "     angle(tBodyAccMean,gravity)  angle(tBodyAccJerkMean),gravityMean)  \\\n",
              "718                     -0.37837                             -0.840289   \n",
              "\n",
              "     angle(tBodyGyroMean,gravityMean)  angle(tBodyGyroJerkMean,gravityMean)  \\\n",
              "718                         -0.864326                              0.848585   \n",
              "\n",
              "     angle(X,gravityMean)  angle(Y,gravityMean)  angle(Z,gravityMean)  \\\n",
              "718             -0.960939              0.116422             -0.003858   \n",
              "\n",
              "     subject  Activity        ActivityName  \n",
              "718        9         3  WALKING_DOWNSTAIRS  \n",
              "\n",
              "[1 rows x 564 columns]"
            ]
          },
          "metadata": {
            "tags": []
          },
          "execution_count": 10
        }
      ]
    },
    {
      "cell_type": "code",
      "metadata": {
        "id": "KotUhX85Ys2W",
        "outputId": "c2c97f55-9c63-448e-ad95-7d9f909acbc4",
        "colab": {
          "base_uri": "https://localhost:8080/",
          "height": 35
        }
      },
      "source": [
        "test.shape"
      ],
      "execution_count": null,
      "outputs": [
        {
          "output_type": "execute_result",
          "data": {
            "text/plain": [
              "(2947, 564)"
            ]
          },
          "metadata": {
            "tags": []
          },
          "execution_count": 11
        }
      ]
    },
    {
      "cell_type": "markdown",
      "metadata": {
        "id": "XpX699fqYs2Y"
      },
      "source": [
        " "
      ]
    },
    {
      "cell_type": "markdown",
      "metadata": {
        "id": "UqMVRBDLYs2Y"
      },
      "source": [
        "# Data Cleaning"
      ]
    },
    {
      "cell_type": "markdown",
      "metadata": {
        "id": "yLYcPRcLYs2Z"
      },
      "source": [
        "## 1. Check for Duplicates"
      ]
    },
    {
      "cell_type": "code",
      "metadata": {
        "scrolled": true,
        "id": "HJa-tQ20Ys2Z",
        "outputId": "5a9d83d9-21e7-43a6-8adb-3407e244600a",
        "colab": {
          "base_uri": "https://localhost:8080/",
          "height": 52
        }
      },
      "source": [
        "print('No of duplicates in train: {}'.format(sum(train.duplicated())))\n",
        "print('No of duplicates in test : {}'.format(sum(test.duplicated())))"
      ],
      "execution_count": null,
      "outputs": [
        {
          "output_type": "stream",
          "text": [
            "No of duplicates in train: 0\n",
            "No of duplicates in test : 0\n"
          ],
          "name": "stdout"
        }
      ]
    },
    {
      "cell_type": "markdown",
      "metadata": {
        "id": "Ks6v9U76Ys2b"
      },
      "source": [
        " "
      ]
    },
    {
      "cell_type": "markdown",
      "metadata": {
        "id": "6Gc4o_IOYs2c"
      },
      "source": [
        "## 2. Checking for NaN/null values"
      ]
    },
    {
      "cell_type": "code",
      "metadata": {
        "id": "sEWh5m90Ys2c",
        "outputId": "ef556e9e-ed1e-4c57-ac1f-20d703636c3a",
        "colab": {
          "base_uri": "https://localhost:8080/",
          "height": 52
        }
      },
      "source": [
        "print('We have {} NaN/Null values in train'.format(train.isnull().values.sum()))\n",
        "print('We have {} NaN/Null values in test'.format(test.isnull().values.sum()))"
      ],
      "execution_count": null,
      "outputs": [
        {
          "output_type": "stream",
          "text": [
            "We have 0 NaN/Null values in train\n",
            "We have 0 NaN/Null values in test\n"
          ],
          "name": "stdout"
        }
      ]
    },
    {
      "cell_type": "markdown",
      "metadata": {
        "id": "qF9IcYSvYs2g"
      },
      "source": [
        "   "
      ]
    },
    {
      "cell_type": "markdown",
      "metadata": {
        "id": "tVLb2WG9Ys2g"
      },
      "source": [
        " "
      ]
    },
    {
      "cell_type": "markdown",
      "metadata": {
        "id": "jCxelPgXYs2h"
      },
      "source": [
        "## 3. Check for data imbalance"
      ]
    },
    {
      "cell_type": "code",
      "metadata": {
        "id": "Lwq3Dxo1Ys2h"
      },
      "source": [
        "sns.set_style('whitegrid')\n",
        "plt.rcParams['font.family'] = 'Dejavu Sans'"
      ],
      "execution_count": null,
      "outputs": []
    },
    {
      "cell_type": "code",
      "metadata": {
        "id": "fXptNMkdYs2j",
        "outputId": "da0886db-9e22-4623-dca3-b5347040d815",
        "colab": {
          "base_uri": "https://localhost:8080/",
          "height": 518
        }
      },
      "source": [
        "plt.figure(figsize=(16,8))\n",
        "plt.title('Data provided by each user', fontsize=20)\n",
        "sns.countplot(x='subject',hue='ActivityName', data = train)\n",
        "plt.show()"
      ],
      "execution_count": null,
      "outputs": [
        {
          "output_type": "display_data",
          "data": {
            "image/png": "[encoded data removed]",
            "text/plain": [
              "<Figure size 1152x576 with 1 Axes>"
            ]
          },
          "metadata": {
            "tags": []
          }
        }
      ]
    },
    {
      "cell_type": "markdown",
      "metadata": {
        "id": "QgQlK9AZYs2k"
      },
      "source": [
        "> We have got almost same number of reading from all the subjects"
      ]
    },
    {
      "cell_type": "code",
      "metadata": {
        "scrolled": false,
        "id": "HpJbAjkEYs2l",
        "outputId": "8ce4346b-a8c5-4c73-bef9-586682fa8c38",
        "colab": {
          "base_uri": "https://localhost:8080/",
          "height": 406
        }
      },
      "source": [
        "plt.title('No of Datapoints per Activity', fontsize=15)\n",
        "sns.countplot(train.ActivityName)\n",
        "plt.xticks(rotation=90)\n",
        "plt.show()"
      ],
      "execution_count": null,
      "outputs": [
        {
          "output_type": "display_data",
          "data": {
            "image/png": "[encoded data removed]",
            "text/plain": [
              "<Figure size 432x288 with 1 Axes>"
            ]
          },
          "metadata": {
            "tags": []
          }
        }
      ]
    },
    {
      "cell_type": "markdown",
      "metadata": {
        "id": "N04s6NbSYs2m"
      },
      "source": [
        "### Observation\n",
        "> Our data is well balanced (almost)"
      ]
    },
    {
      "cell_type": "markdown",
      "metadata": {
        "id": "icN-PEjcYs2n"
      },
      "source": [
        "## 4. Changing feature names "
      ]
    },
    {
      "cell_type": "code",
      "metadata": {
        "id": "9_JO-BIHYs2n",
        "outputId": "3d126398-71b8-4416-f6d4-c859295aea58",
        "colab": {
          "base_uri": "https://localhost:8080/",
          "height": 175
        }
      },
      "source": [
        "columns = train.columns\n",
        "\n",
        "# Removing '()' from column names\n",
        "columns = columns.str.replace('[()]','')\n",
        "columns = columns.str.replace('[-]', '')\n",
        "columns = columns.str.replace('[,]','')\n",
        "\n",
        "train.columns = columns\n",
        "test.columns = columns\n",
        "\n",
        "test.columns"
      ],
      "execution_count": null,
      "outputs": [
        {
          "output_type": "execute_result",
          "data": {
            "text/plain": [
              "Index(['tBodyAccmeanX', 'tBodyAccmeanY', 'tBodyAccmeanZ', 'tBodyAccstdX',\n",
              "       'tBodyAccstdY', 'tBodyAccstdZ', 'tBodyAccmadX', 'tBodyAccmadY',\n",
              "       'tBodyAccmadZ', 'tBodyAccmaxX',\n",
              "       ...\n",
              "       'angletBodyAccMeangravity', 'angletBodyAccJerkMeangravityMean',\n",
              "       'angletBodyGyroMeangravityMean', 'angletBodyGyroJerkMeangravityMean',\n",
              "       'angleXgravityMean', 'angleYgravityMean', 'angleZgravityMean',\n",
              "       'subject', 'Activity', 'ActivityName'],\n",
              "      dtype='object', length=564)"
            ]
          },
          "metadata": {
            "tags": []
          },
          "execution_count": 38
        }
      ]
    },
    {
      "cell_type": "markdown",
      "metadata": {
        "id": "bwzvy_iDYs2p"
      },
      "source": [
        "## 5. Save this dataframe in a csv files"
      ]
    },
    {
      "cell_type": "code",
      "metadata": {
        "id": "_awo2Km3Ys2p"
      },
      "source": [
        "train.to_csv('/content/Motor/UCI_HAR_dataset/train.csv', index=False)\n",
        "test.to_csv('/content/Motor/UCI_HAR_dataset/test.csv', index=False)"
      ],
      "execution_count": null,
      "outputs": []
    },
    {
      "cell_type": "markdown",
      "metadata": {
        "id": "KqPrDPPBYs2r"
      },
      "source": [
        " "
      ]
    },
    {
      "cell_type": "markdown",
      "metadata": {
        "id": "xxBRdcIuYs2r"
      },
      "source": [
        "# Exploratory Data Analysis"
      ]
    },
    {
      "cell_type": "markdown",
      "metadata": {
        "id": "T2qJh1gVYs2r"
      },
      "source": [
        "\"___Without domain knowledge, EDA has no meaning, without EDA a problem has no soul.___\""
      ]
    },
    {
      "cell_type": "markdown",
      "metadata": {
        "id": "qDRJf747Ys2s"
      },
      "source": [
        "### 1. Featuring Engineering from Domain Knowledge \n"
      ]
    },
    {
      "cell_type": "markdown",
      "metadata": {
        "id": "AnyRlQyzYs2s"
      },
      "source": [
        "\n",
        "\n",
        "+ __Static and Dynamic Activities__\n",
        "\n",
        "    - In static activities (sit, stand, lie down) motion information will not be very useful.\n",
        "\t- In the dynamic activities (Walking, WalkingUpstairs,WalkingDownstairs) motion info will be significant.\n",
        "\n",
        "\n"
      ]
    },
    {
      "cell_type": "markdown",
      "metadata": {
        "id": "slar2OTJYs2s"
      },
      "source": [
        "### 2. Stationary and Moving activities are completely different"
      ]
    },
    {
      "cell_type": "code",
      "metadata": {
        "id": "wYo3kiUyYs2t"
      },
      "source": [
        "sns.set_palette(\"Set1\", desat=0.80)\n",
        "facetgrid = sns.FacetGrid(train, hue='ActivityName', height=6,aspect=2)\n",
        "facetgrid.map(sns.distplot,'tBodyAccMagmean', hist=False)\\\n",
        "    .add_legend()\n",
        "plt.annotate(\"Stationary Activities\", xy=(-0.956,17), xytext=(-0.9, 23), size=20,\\\n",
        "            va='center', ha='left',\\\n",
        "            arrowprops=dict(arrowstyle=\"simple\",connectionstyle=\"arc3,rad=0.1\"))\n",
        "\n",
        "plt.annotate(\"Moving Activities\", xy=(0,3), xytext=(0.2, 9), size=20,\\\n",
        "            va='center', ha='left',\\\n",
        "            arrowprops=dict(arrowstyle=\"simple\",connectionstyle=\"arc3,rad=0.1\"))\n",
        "plt.show()"
      ],
      "execution_count": null,
      "outputs": []
    },
    {
      "cell_type": "code",
      "metadata": {
        "id": "Q7mZXiQiYs2u"
      },
      "source": [
        "# for plotting purposes taking datapoints of each activity to a different dataframe\n",
        "df1 = train[train['Activity']==1]\n",
        "df2 = train[train['Activity']==2]\n",
        "df3 = train[train['Activity']==3]\n",
        "df4 = train[train['Activity']==4]\n",
        "df5 = train[train['Activity']==5]\n",
        "df6 = train[train['Activity']==6]\n",
        "\n",
        "plt.figure(figsize=(14,7))\n",
        "plt.subplot(2,2,1)\n",
        "plt.title('Stationary Activities(Zoomed in)')\n",
        "sns.distplot(df4['tBodyAccMagmean'],color = 'r',hist = False, label = 'Sitting')\n",
        "sns.distplot(df5['tBodyAccMagmean'],color = 'm',hist = False,label = 'Standing')\n",
        "sns.distplot(df6['tBodyAccMagmean'],color = 'c',hist = False, label = 'Laying')\n",
        "plt.axis([-1.01, -0.5, 0, 35])\n",
        "plt.legend(loc='center')\n",
        "\n",
        "plt.subplot(2,2,2)\n",
        "plt.title('Moving Activities')\n",
        "sns.distplot(df1['tBodyAccMagmean'],color = 'red',hist = False, label = 'Walking')\n",
        "sns.distplot(df2['tBodyAccMagmean'],color = 'blue',hist = False,label = 'Walking Up')\n",
        "sns.distplot(df3['tBodyAccMagmean'],color = 'green',hist = False, label = 'Walking down')\n",
        "plt.legend(loc='center right')\n",
        "\n",
        "\n",
        "plt.tight_layout()\n",
        "plt.show()"
      ],
      "execution_count": null,
      "outputs": []
    },
    {
      "cell_type": "markdown",
      "metadata": {
        "id": "Or1OcKLzYs2w"
      },
      "source": [
        "### 3. Magnitude of an acceleration can saperate it well"
      ]
    },
    {
      "cell_type": "code",
      "metadata": {
        "scrolled": false,
        "id": "zyKpnDS-Ys2w"
      },
      "source": [
        "plt.figure(figsize=(7,7))\n",
        "sns.boxplot(x='ActivityName', y='tBodyAccMagmean',data=train, showfliers=False, saturation=1)\n",
        "plt.ylabel('Acceleration Magnitude mean')\n",
        "plt.axhline(y=-0.7, xmin=0.1, xmax=0.9,dashes=(5,5), c='g')\n",
        "plt.axhline(y=-0.05, xmin=0.4, dashes=(5,5), c='m')\n",
        "plt.xticks(rotation=90)\n",
        "plt.show()"
      ],
      "execution_count": null,
      "outputs": []
    },
    {
      "cell_type": "markdown",
      "metadata": {
        "id": "lMR-e6G1Ys2x"
      },
      "source": [
        "__ Observations__:\n",
        "- If tAccMean is < -0.8 then the Activities are either Standing or Sitting or Laying.\n",
        "- If tAccMean is > -0.6 then the Activities are either Walking or WalkingDownstairs or WalkingUpstairs.\n",
        "- If tAccMean > 0.0 then the Activity is WalkingDownstairs.\n",
        "- We can classify 75% the Acitivity labels with some errors."
      ]
    },
    {
      "cell_type": "markdown",
      "metadata": {
        "id": "YUaBCoWgYs2y"
      },
      "source": [
        "### 4. Position of GravityAccelerationComponants also matters "
      ]
    },
    {
      "cell_type": "code",
      "metadata": {
        "id": "JU2U1bqfYs2y"
      },
      "source": [
        "sns.boxplot(x='ActivityName', y='angleXgravityMean', data=train)\n",
        "plt.axhline(y=0.08, xmin=0.1, xmax=0.9,c='m',dashes=(5,3))\n",
        "plt.title('Angle between X-axis and Gravity_mean', fontsize=15)\n",
        "plt.xticks(rotation = 40)\n",
        "plt.show()"
      ],
      "execution_count": null,
      "outputs": []
    },
    {
      "cell_type": "markdown",
      "metadata": {
        "id": "jERhMUXeYs2z"
      },
      "source": [
        "__ Observations__:\n",
        "* If angleX,gravityMean > 0 then Activity is Laying.\n",
        "* We can classify all datapoints belonging to Laying activity with just a single if else statement."
      ]
    },
    {
      "cell_type": "code",
      "metadata": {
        "id": "KWdnsszeYs20"
      },
      "source": [
        "sns.boxplot(x='ActivityName', y='angleYgravityMean', data = train, showfliers=False)\n",
        "plt.title('Angle between Y-axis and Gravity_mean', fontsize=15)\n",
        "plt.xticks(rotation = 40)\n",
        "plt.axhline(y=-0.22, xmin=0.1, xmax=0.8, dashes=(5,3), c='m')\n",
        "plt.show()"
      ],
      "execution_count": null,
      "outputs": []
    },
    {
      "cell_type": "markdown",
      "metadata": {
        "id": "bRdYD91pYs22"
      },
      "source": [
        " "
      ]
    },
    {
      "cell_type": "markdown",
      "metadata": {
        "id": "mPMYymN6Ys22"
      },
      "source": [
        " "
      ]
    },
    {
      "cell_type": "markdown",
      "metadata": {
        "id": "IVnLKy2rYs22"
      },
      "source": [
        " "
      ]
    },
    {
      "cell_type": "markdown",
      "metadata": {
        "id": "OFWjp-6VYs23"
      },
      "source": [
        "# Apply t-sne on the data "
      ]
    },
    {
      "cell_type": "code",
      "metadata": {
        "id": "W2Q2lpqnYs23"
      },
      "source": [
        "# performs t-sne with different perplexity values and their repective plots..\n",
        "def perform_tsne(X_data, y_data, perplexities, n_iter=1000, img_name_prefix='t-sne'):\n",
        "        \n",
        "    for index,perplexity in enumerate(perplexities):\n",
        "        # perform t-sne\n",
        "        print('\\nperforming tsne with perplexity {} and with {} iterations at max'.format(perplexity, n_iter))\n",
        "        X_reduced = TSNE(verbose=2, perplexity=perplexity).fit_transform(X_data)\n",
        "        print('Done..')\n",
        "        \n",
        "        # prepare the data for seaborn         \n",
        "        print('Creating plot for this t-sne visualization..')\n",
        "        df = pd.DataFrame({'x':X_reduced[:,0], 'y':X_reduced[:,1] ,'label':y_data})\n",
        "        \n",
        "        # draw the plot in appropriate place in the grid\n",
        "        sns.lmplot(data=df, x='x', y='y', hue='label', fit_reg=False, size=8,\\\n",
        "                   palette=\"Set1\",markers=['^','v','s','o', '1','2'])\n",
        "        plt.title(\"perplexity : {} and max_iter : {}\".format(perplexity, n_iter))\n",
        "        img_name = img_name_prefix + '_perp_{}_iter_{}.png'.format(perplexity, n_iter)\n",
        "        print('saving this plot as image in present working directory...')\n",
        "        plt.savefig(img_name)\n",
        "        plt.show()\n",
        "        print('Done')\n"
      ],
      "execution_count": null,
      "outputs": []
    },
    {
      "cell_type": "code",
      "metadata": {
        "scrolled": false,
        "id": "uNutOkSiYs24",
        "outputId": "e8821f53-e0c2-4e13-be6e-cc8af10a6672",
        "colab": {
          "base_uri": "https://localhost:8080/",
          "height": 1000
        }
      },
      "source": [
        "X_pre_tsne = train.drop(['subject', 'Activity','ActivityName'], axis=1)\n",
        "y_pre_tsne = train['ActivityName']\n",
        "perform_tsne(X_data = X_pre_tsne,y_data=y_pre_tsne, perplexities =[2,5,10,20,50])"
      ],
      "execution_count": null,
      "outputs": [
        {
          "output_type": "stream",
          "text": [
            "\n",
            "performing tsne with perplexity 2 and with 1000 iterations at max\n",
            "[t-SNE] Computing 7 nearest neighbors...\n",
            "[t-SNE] Indexed 7352 samples in 0.550s...\n",
            "[t-SNE] Computed neighbors for 7352 samples in 44.079s...\n",
            "[t-SNE] Computed conditional probabilities for sample 1000 / 7352\n",
            "[t-SNE] Computed conditional probabilities for sample 2000 / 7352\n",
            "[t-SNE] Computed conditional probabilities for sample 3000 / 7352\n",
            "[t-SNE] Computed conditional probabilities for sample 4000 / 7352\n",
            "[t-SNE] Computed conditional probabilities for sample 5000 / 7352\n",
            "[t-SNE] Computed conditional probabilities for sample 6000 / 7352\n",
            "[t-SNE] Computed conditional probabilities for sample 7000 / 7352\n",
            "[t-SNE] Computed conditional probabilities for sample 7352 / 7352\n",
            "[t-SNE] Mean sigma: 0.635854\n",
            "[t-SNE] Computed conditional probabilities in 0.052s\n",
            "[t-SNE] Iteration 50: error = 124.7557297, gradient norm = 0.0269173 (50 iterations in 11.106s)\n",
            "[t-SNE] Iteration 100: error = 107.1301041, gradient norm = 0.0294448 (50 iterations in 3.502s)\n",
            "[t-SNE] Iteration 150: error = 100.8606720, gradient norm = 0.0185850 (50 iterations in 2.469s)\n",
            "[t-SNE] Iteration 200: error = 97.5027695, gradient norm = 0.0170619 (50 iterations in 2.368s)\n",
            "[t-SNE] Iteration 250: error = 95.2323151, gradient norm = 0.0124662 (50 iterations in 2.354s)\n",
            "[t-SNE] KL divergence after 250 iterations with early exaggeration: 95.232315\n",
            "[t-SNE] Iteration 300: error = 4.1195188, gradient norm = 0.0015589 (50 iterations in 2.111s)\n",
            "[t-SNE] Iteration 350: error = 3.2126870, gradient norm = 0.0010009 (50 iterations in 1.918s)\n",
            "[t-SNE] Iteration 400: error = 2.7839515, gradient norm = 0.0007142 (50 iterations in 1.971s)\n",
            "[t-SNE] Iteration 450: error = 2.5195251, gradient norm = 0.0005770 (50 iterations in 2.041s)\n",
            "[t-SNE] Iteration 500: error = 2.3360331, gradient norm = 0.0004760 (50 iterations in 2.040s)\n",
            "[t-SNE] Iteration 550: error = 2.1983180, gradient norm = 0.0004131 (50 iterations in 2.049s)\n",
            "[t-SNE] Iteration 600: error = 2.0890951, gradient norm = 0.0003649 (50 iterations in 2.040s)\n",
            "[t-SNE] Iteration 650: error = 1.9992442, gradient norm = 0.0003319 (50 iterations in 2.053s)\n",
            "[t-SNE] Iteration 700: error = 1.9237461, gradient norm = 0.0003016 (50 iterations in 2.067s)\n",
            "[t-SNE] Iteration 750: error = 1.8587382, gradient norm = 0.0002776 (50 iterations in 2.083s)\n",
            "[t-SNE] Iteration 800: error = 1.8021468, gradient norm = 0.0002554 (50 iterations in 2.080s)\n",
            "[t-SNE] Iteration 850: error = 1.7524273, gradient norm = 0.0002398 (50 iterations in 2.099s)\n",
            "[t-SNE] Iteration 900: error = 1.7076550, gradient norm = 0.0002274 (50 iterations in 2.089s)\n",
            "[t-SNE] Iteration 950: error = 1.6675196, gradient norm = 0.0002127 (50 iterations in 2.095s)\n",
            "[t-SNE] Iteration 1000: error = 1.6311789, gradient norm = 0.0001994 (50 iterations in 2.101s)\n",
            "[t-SNE] KL divergence after 1000 iterations: 1.631179\n",
            "Done..\n",
            "Creating plot for this t-sne visualization..\n",
            "saving this plot as image in present working directory...\n",
            "Done\n",
            "\n",
            "performing tsne with perplexity 5 and with 1000 iterations at max\n",
            "[t-SNE] Computing 16 nearest neighbors...\n",
            "[t-SNE] Indexed 7352 samples in 0.617s...\n",
            "[t-SNE] Computed neighbors for 7352 samples in 42.709s...\n",
            "[t-SNE] Computed conditional probabilities for sample 1000 / 7352\n",
            "[t-SNE] Computed conditional probabilities for sample 2000 / 7352\n",
            "[t-SNE] Computed conditional probabilities for sample 3000 / 7352\n",
            "[t-SNE] Computed conditional probabilities for sample 4000 / 7352\n",
            "[t-SNE] Computed conditional probabilities for sample 5000 / 7352\n",
            "[t-SNE] Computed conditional probabilities for sample 6000 / 7352\n",
            "[t-SNE] Computed conditional probabilities for sample 7000 / 7352\n",
            "[t-SNE] Computed conditional probabilities for sample 7352 / 7352\n",
            "[t-SNE] Mean sigma: 0.961265\n",
            "[t-SNE] Computed conditional probabilities in 0.074s\n",
            "[t-SNE] Iteration 50: error = 114.0054016, gradient norm = 0.0215617 (50 iterations in 4.471s)\n",
            "[t-SNE] Iteration 100: error = 97.3083267, gradient norm = 0.0152960 (50 iterations in 2.356s)\n",
            "[t-SNE] Iteration 150: error = 93.0273743, gradient norm = 0.0120479 (50 iterations in 2.006s)\n",
            "[t-SNE] Iteration 200: error = 91.0902786, gradient norm = 0.0066897 (50 iterations in 1.988s)\n",
            "[t-SNE] Iteration 250: error = 89.9323273, gradient norm = 0.0053550 (50 iterations in 1.978s)\n",
            "[t-SNE] KL divergence after 250 iterations with early exaggeration: 89.932327\n",
            "[t-SNE] Iteration 300: error = 3.5716517, gradient norm = 0.0014626 (50 iterations in 1.904s)\n",
            "[t-SNE] Iteration 350: error = 2.8130581, gradient norm = 0.0007435 (50 iterations in 1.904s)\n",
            "[t-SNE] Iteration 400: error = 2.4325747, gradient norm = 0.0005245 (50 iterations in 1.927s)\n",
            "[t-SNE] Iteration 450: error = 2.2151198, gradient norm = 0.0004068 (50 iterations in 1.925s)\n",
            "[t-SNE] Iteration 500: error = 2.0706537, gradient norm = 0.0003304 (50 iterations in 1.934s)\n",
            "[t-SNE] Iteration 550: error = 1.9652860, gradient norm = 0.0002833 (50 iterations in 1.957s)\n",
            "[t-SNE] Iteration 600: error = 1.8839178, gradient norm = 0.0002488 (50 iterations in 1.948s)\n",
            "[t-SNE] Iteration 650: error = 1.8189528, gradient norm = 0.0002202 (50 iterations in 1.957s)\n",
            "[t-SNE] Iteration 700: error = 1.7652919, gradient norm = 0.0001980 (50 iterations in 1.961s)\n",
            "[t-SNE] Iteration 750: error = 1.7202619, gradient norm = 0.0001792 (50 iterations in 1.954s)\n",
            "[t-SNE] Iteration 800: error = 1.6814204, gradient norm = 0.0001656 (50 iterations in 1.955s)\n",
            "[t-SNE] Iteration 850: error = 1.6476020, gradient norm = 0.0001552 (50 iterations in 1.978s)\n",
            "[t-SNE] Iteration 900: error = 1.6179945, gradient norm = 0.0001413 (50 iterations in 1.972s)\n",
            "[t-SNE] Iteration 950: error = 1.5916635, gradient norm = 0.0001329 (50 iterations in 1.951s)\n",
            "[t-SNE] Iteration 1000: error = 1.5681275, gradient norm = 0.0001253 (50 iterations in 1.956s)\n",
            "[t-SNE] KL divergence after 1000 iterations: 1.568128\n",
            "Done..\n",
            "Creating plot for this t-sne visualization..\n",
            "saving this plot as image in present working directory...\n",
            "Done\n",
            "\n",
            "performing tsne with perplexity 10 and with 1000 iterations at max\n",
            "[t-SNE] Computing 31 nearest neighbors...\n",
            "[t-SNE] Indexed 7352 samples in 0.605s...\n",
            "[t-SNE] Computed neighbors for 7352 samples in 43.159s...\n",
            "[t-SNE] Computed conditional probabilities for sample 1000 / 7352\n",
            "[t-SNE] Computed conditional probabilities for sample 2000 / 7352\n",
            "[t-SNE] Computed conditional probabilities for sample 3000 / 7352\n",
            "[t-SNE] Computed conditional probabilities for sample 4000 / 7352\n",
            "[t-SNE] Computed conditional probabilities for sample 5000 / 7352\n",
            "[t-SNE] Computed conditional probabilities for sample 6000 / 7352\n",
            "[t-SNE] Computed conditional probabilities for sample 7000 / 7352\n",
            "[t-SNE] Computed conditional probabilities for sample 7352 / 7352\n",
            "[t-SNE] Mean sigma: 1.133828\n",
            "[t-SNE] Computed conditional probabilities in 0.145s\n",
            "[t-SNE] Iteration 50: error = 105.4460754, gradient norm = 0.0223316 (50 iterations in 3.687s)\n",
            "[t-SNE] Iteration 100: error = 90.3193817, gradient norm = 0.0093653 (50 iterations in 2.465s)\n",
            "[t-SNE] Iteration 150: error = 87.2831497, gradient norm = 0.0077483 (50 iterations in 2.206s)\n",
            "[t-SNE] Iteration 200: error = 86.0431061, gradient norm = 0.0034938 (50 iterations in 2.195s)\n",
            "[t-SNE] Iteration 250: error = 85.3421021, gradient norm = 0.0029358 (50 iterations in 2.164s)\n",
            "[t-SNE] KL divergence after 250 iterations with early exaggeration: 85.342102\n",
            "[t-SNE] Iteration 300: error = 3.1328990, gradient norm = 0.0013873 (50 iterations in 2.059s)\n",
            "[t-SNE] Iteration 350: error = 2.4901633, gradient norm = 0.0006467 (50 iterations in 2.004s)\n",
            "[t-SNE] Iteration 400: error = 2.1709239, gradient norm = 0.0004211 (50 iterations in 2.021s)\n",
            "[t-SNE] Iteration 450: error = 1.9866910, gradient norm = 0.0003155 (50 iterations in 2.043s)\n",
            "[t-SNE] Iteration 500: error = 1.8684628, gradient norm = 0.0002529 (50 iterations in 2.054s)\n",
            "[t-SNE] Iteration 550: error = 1.7853320, gradient norm = 0.0002094 (50 iterations in 2.057s)\n",
            "[t-SNE] Iteration 600: error = 1.7230330, gradient norm = 0.0001807 (50 iterations in 2.072s)\n",
            "[t-SNE] Iteration 650: error = 1.6743224, gradient norm = 0.0001580 (50 iterations in 2.092s)\n",
            "[t-SNE] Iteration 700: error = 1.6348406, gradient norm = 0.0001444 (50 iterations in 2.068s)\n",
            "[t-SNE] Iteration 750: error = 1.6025414, gradient norm = 0.0001307 (50 iterations in 2.082s)\n",
            "[t-SNE] Iteration 800: error = 1.5748935, gradient norm = 0.0001194 (50 iterations in 2.071s)\n",
            "[t-SNE] Iteration 850: error = 1.5515738, gradient norm = 0.0001117 (50 iterations in 2.070s)\n",
            "[t-SNE] Iteration 900: error = 1.5317552, gradient norm = 0.0001050 (50 iterations in 2.070s)\n",
            "[t-SNE] Iteration 950: error = 1.5146596, gradient norm = 0.0000974 (50 iterations in 2.104s)\n",
            "[t-SNE] Iteration 1000: error = 1.4994919, gradient norm = 0.0000908 (50 iterations in 2.091s)\n",
            "[t-SNE] KL divergence after 1000 iterations: 1.499492\n",
            "Done..\n",
            "Creating plot for this t-sne visualization..\n",
            "saving this plot as image in present working directory...\n",
            "Done\n",
            "\n",
            "performing tsne with perplexity 20 and with 1000 iterations at max\n",
            "[t-SNE] Computing 61 nearest neighbors...\n",
            "[t-SNE] Indexed 7352 samples in 0.604s...\n",
            "[t-SNE] Computed neighbors for 7352 samples in 43.512s...\n",
            "[t-SNE] Computed conditional probabilities for sample 1000 / 7352\n",
            "[t-SNE] Computed conditional probabilities for sample 2000 / 7352\n",
            "[t-SNE] Computed conditional probabilities for sample 3000 / 7352\n",
            "[t-SNE] Computed conditional probabilities for sample 4000 / 7352\n",
            "[t-SNE] Computed conditional probabilities for sample 5000 / 7352\n",
            "[t-SNE] Computed conditional probabilities for sample 6000 / 7352\n",
            "[t-SNE] Computed conditional probabilities for sample 7000 / 7352\n",
            "[t-SNE] Computed conditional probabilities for sample 7352 / 7352\n",
            "[t-SNE] Mean sigma: 1.274335\n",
            "[t-SNE] Computed conditional probabilities in 0.282s\n",
            "[t-SNE] Iteration 50: error = 97.7639771, gradient norm = 0.0167346 (50 iterations in 3.966s)\n",
            "[t-SNE] Iteration 100: error = 84.5467758, gradient norm = 0.0069379 (50 iterations in 3.366s)\n",
            "[t-SNE] Iteration 150: error = 82.3853149, gradient norm = 0.0046303 (50 iterations in 2.831s)\n",
            "[t-SNE] Iteration 200: error = 81.6129608, gradient norm = 0.0026197 (50 iterations in 2.828s)\n",
            "[t-SNE] Iteration 250: error = 81.1057129, gradient norm = 0.0021208 (50 iterations in 2.808s)\n",
            "[t-SNE] KL divergence after 250 iterations with early exaggeration: 81.105713\n",
            "[t-SNE] Iteration 300: error = 2.7213726, gradient norm = 0.0013068 (50 iterations in 2.513s)\n",
            "[t-SNE] Iteration 350: error = 2.1863568, gradient norm = 0.0005796 (50 iterations in 2.279s)\n",
            "[t-SNE] Iteration 400: error = 1.9355202, gradient norm = 0.0003505 (50 iterations in 2.271s)\n",
            "[t-SNE] Iteration 450: error = 1.7880270, gradient norm = 0.0002497 (50 iterations in 2.265s)\n",
            "[t-SNE] Iteration 500: error = 1.6937671, gradient norm = 0.0001947 (50 iterations in 2.268s)\n",
            "[t-SNE] Iteration 550: error = 1.6282446, gradient norm = 0.0001659 (50 iterations in 2.295s)\n",
            "[t-SNE] Iteration 600: error = 1.5804604, gradient norm = 0.0001389 (50 iterations in 2.341s)\n",
            "[t-SNE] Iteration 650: error = 1.5445361, gradient norm = 0.0001203 (50 iterations in 2.343s)\n",
            "[t-SNE] Iteration 700: error = 1.5164356, gradient norm = 0.0001072 (50 iterations in 2.297s)\n",
            "[t-SNE] Iteration 750: error = 1.4937377, gradient norm = 0.0000980 (50 iterations in 2.289s)\n",
            "[t-SNE] Iteration 800: error = 1.4753721, gradient norm = 0.0000910 (50 iterations in 2.285s)\n",
            "[t-SNE] Iteration 850: error = 1.4604199, gradient norm = 0.0000839 (50 iterations in 2.310s)\n",
            "[t-SNE] Iteration 900: error = 1.4479339, gradient norm = 0.0000798 (50 iterations in 2.286s)\n",
            "[t-SNE] Iteration 950: error = 1.4376481, gradient norm = 0.0000795 (50 iterations in 2.293s)\n",
            "[t-SNE] Iteration 1000: error = 1.4291664, gradient norm = 0.0000716 (50 iterations in 2.300s)\n",
            "[t-SNE] KL divergence after 1000 iterations: 1.429166\n",
            "Done..\n",
            "Creating plot for this t-sne visualization..\n",
            "saving this plot as image in present working directory...\n",
            "Done\n",
            "\n",
            "performing tsne with perplexity 50 and with 1000 iterations at max\n",
            "[t-SNE] Computing 151 nearest neighbors...\n",
            "[t-SNE] Indexed 7352 samples in 0.589s...\n",
            "[t-SNE] Computed neighbors for 7352 samples in 44.477s...\n",
            "[t-SNE] Computed conditional probabilities for sample 1000 / 7352\n",
            "[t-SNE] Computed conditional probabilities for sample 2000 / 7352\n",
            "[t-SNE] Computed conditional probabilities for sample 3000 / 7352\n",
            "[t-SNE] Computed conditional probabilities for sample 4000 / 7352\n",
            "[t-SNE] Computed conditional probabilities for sample 5000 / 7352\n",
            "[t-SNE] Computed conditional probabilities for sample 6000 / 7352\n",
            "[t-SNE] Computed conditional probabilities for sample 7000 / 7352\n",
            "[t-SNE] Computed conditional probabilities for sample 7352 / 7352\n",
            "[t-SNE] Mean sigma: 1.437672\n",
            "[t-SNE] Computed conditional probabilities in 0.690s\n",
            "[t-SNE] Iteration 50: error = 86.7360001, gradient norm = 0.0188678 (50 iterations in 4.661s)\n",
            "[t-SNE] Iteration 100: error = 75.6309967, gradient norm = 0.0042749 (50 iterations in 3.448s)\n",
            "[t-SNE] Iteration 150: error = 74.6439514, gradient norm = 0.0025271 (50 iterations in 3.162s)\n",
            "[t-SNE] Iteration 200: error = 74.3002014, gradient norm = 0.0020209 (50 iterations in 3.165s)\n",
            "[t-SNE] Iteration 250: error = 74.1254730, gradient norm = 0.0021946 (50 iterations in 3.156s)\n",
            "[t-SNE] KL divergence after 250 iterations with early exaggeration: 74.125473\n",
            "[t-SNE] Iteration 300: error = 2.1620898, gradient norm = 0.0011941 (50 iterations in 3.021s)\n",
            "[t-SNE] Iteration 350: error = 1.7599061, gradient norm = 0.0004844 (50 iterations in 2.905s)\n",
            "[t-SNE] Iteration 400: error = 1.5905890, gradient norm = 0.0002817 (50 iterations in 2.909s)\n",
            "[t-SNE] Iteration 450: error = 1.4965053, gradient norm = 0.0001926 (50 iterations in 2.915s)\n",
            "[t-SNE] Iteration 500: error = 1.4364347, gradient norm = 0.0001412 (50 iterations in 2.955s)\n",
            "[t-SNE] Iteration 550: error = 1.3953744, gradient norm = 0.0001115 (50 iterations in 2.946s)\n",
            "[t-SNE] Iteration 600: error = 1.3660200, gradient norm = 0.0000976 (50 iterations in 2.976s)\n",
            "[t-SNE] Iteration 650: error = 1.3444915, gradient norm = 0.0000839 (50 iterations in 2.982s)\n",
            "[t-SNE] Iteration 700: error = 1.3283885, gradient norm = 0.0000746 (50 iterations in 2.963s)\n",
            "[t-SNE] Iteration 750: error = 1.3166425, gradient norm = 0.0000697 (50 iterations in 2.978s)\n",
            "[t-SNE] Iteration 800: error = 1.3078036, gradient norm = 0.0000645 (50 iterations in 2.985s)\n",
            "[t-SNE] Iteration 850: error = 1.3008543, gradient norm = 0.0000607 (50 iterations in 2.989s)\n",
            "[t-SNE] Iteration 900: error = 1.2950637, gradient norm = 0.0000571 (50 iterations in 2.989s)\n",
            "[t-SNE] Iteration 950: error = 1.2901618, gradient norm = 0.0000573 (50 iterations in 3.001s)\n",
            "[t-SNE] Iteration 1000: error = 1.2859919, gradient norm = 0.0000543 (50 iterations in 3.007s)\n",
            "[t-SNE] KL divergence after 1000 iterations: 1.285992\n",
            "Done..\n",
            "Creating plot for this t-sne visualization..\n",
            "saving this plot as image in present working directory...\n",
            "Done\n"
          ],
          "name": "stdout"
        }
      ]
    },
    {
      "cell_type": "markdown",
      "metadata": {
        "id": "X6tf8IS1Ys26"
      },
      "source": [
        " "
      ]
    },
    {
      "cell_type": "markdown",
      "metadata": {
        "id": "KhQi-34LYs26"
      },
      "source": [
        " "
      ]
    },
    {
      "cell_type": "markdown",
      "metadata": {
        "id": "nLFZGpaLYs27"
      },
      "source": [
        "## Apply Machine Learning Models"
      ]
    },
    {
      "cell_type": "code",
      "metadata": {
        "id": "rOfgVT71Ys27",
        "outputId": "58aa4fd5-87f4-43ed-97d1-3b805ab0576f",
        "colab": {
          "base_uri": "https://localhost:8080/",
          "height": 35
        }
      },
      "source": [
        "train = pd.read_csv('/content/Motor/UCI_HAR_dataset/train.csv')\n",
        "test = pd.read_csv('/content/Motor/UCI_HAR_dataset/test.csv')\n",
        "print(train.shape, test.shape)"
      ],
      "execution_count": null,
      "outputs": [
        {
          "output_type": "stream",
          "text": [
            "(7352, 564) (2947, 564)\n"
          ],
          "name": "stdout"
        }
      ]
    },
    {
      "cell_type": "code",
      "metadata": {
        "id": "oYdkm2lRYs28",
        "outputId": "ab010333-ed01-49eb-eb07-3a8716249294",
        "colab": {
          "base_uri": "https://localhost:8080/",
          "height": 190
        }
      },
      "source": [
        "train.head(3)"
      ],
      "execution_count": null,
      "outputs": [
        {
          "output_type": "execute_result",
          "data": {
            "text/html": [
              "<div>\n",
              "<style>\n",
              "    .dataframe thead tr:only-child th {\n",
              "        text-align: right;\n",
              "    }\n",
              "\n",
              "    .dataframe thead th {\n",
              "        text-align: left;\n",
              "    }\n",
              "\n",
              "    .dataframe tbody tr th {\n",
              "        vertical-align: top;\n",
              "    }\n",
              "</style>\n",
              "<table border=\"1\" class=\"dataframe\">\n",
              "  <thead>\n",
              "    <tr style=\"text-align: right;\">\n",
              "      <th></th>\n",
              "      <th>tBodyAccmeanX</th>\n",
              "      <th>tBodyAccmeanY</th>\n",
              "      <th>tBodyAccmeanZ</th>\n",
              "      <th>tBodyAccstdX</th>\n",
              "      <th>tBodyAccstdY</th>\n",
              "      <th>tBodyAccstdZ</th>\n",
              "      <th>tBodyAccmadX</th>\n",
              "      <th>tBodyAccmadY</th>\n",
              "      <th>tBodyAccmadZ</th>\n",
              "      <th>tBodyAccmaxX</th>\n",
              "      <th>...</th>\n",
              "      <th>angletBodyAccMeangravity</th>\n",
              "      <th>angletBodyAccJerkMeangravityMean</th>\n",
              "      <th>angletBodyGyroMeangravityMean</th>\n",
              "      <th>angletBodyGyroJerkMeangravityMean</th>\n",
              "      <th>angleXgravityMean</th>\n",
              "      <th>angleYgravityMean</th>\n",
              "      <th>angleZgravityMean</th>\n",
              "      <th>subject</th>\n",
              "      <th>Activity</th>\n",
              "      <th>ActivityName</th>\n",
              "    </tr>\n",
              "  </thead>\n",
              "  <tbody>\n",
              "    <tr>\n",
              "      <th>0</th>\n",
              "      <td>0.288585</td>\n",
              "      <td>-0.020294</td>\n",
              "      <td>-0.132905</td>\n",
              "      <td>-0.995279</td>\n",
              "      <td>-0.983111</td>\n",
              "      <td>-0.913526</td>\n",
              "      <td>-0.995112</td>\n",
              "      <td>-0.983185</td>\n",
              "      <td>-0.923527</td>\n",
              "      <td>-0.934724</td>\n",
              "      <td>...</td>\n",
              "      <td>-0.112754</td>\n",
              "      <td>0.030400</td>\n",
              "      <td>-0.464761</td>\n",
              "      <td>-0.018446</td>\n",
              "      <td>-0.841247</td>\n",
              "      <td>0.179941</td>\n",
              "      <td>-0.058627</td>\n",
              "      <td>1</td>\n",
              "      <td>5</td>\n",
              "      <td>STANDING</td>\n",
              "    </tr>\n",
              "    <tr>\n",
              "      <th>1</th>\n",
              "      <td>0.278419</td>\n",
              "      <td>-0.016411</td>\n",
              "      <td>-0.123520</td>\n",
              "      <td>-0.998245</td>\n",
              "      <td>-0.975300</td>\n",
              "      <td>-0.960322</td>\n",
              "      <td>-0.998807</td>\n",
              "      <td>-0.974914</td>\n",
              "      <td>-0.957686</td>\n",
              "      <td>-0.943068</td>\n",
              "      <td>...</td>\n",
              "      <td>0.053477</td>\n",
              "      <td>-0.007435</td>\n",
              "      <td>-0.732626</td>\n",
              "      <td>0.703511</td>\n",
              "      <td>-0.844788</td>\n",
              "      <td>0.180289</td>\n",
              "      <td>-0.054317</td>\n",
              "      <td>1</td>\n",
              "      <td>5</td>\n",
              "      <td>STANDING</td>\n",
              "    </tr>\n",
              "    <tr>\n",
              "      <th>2</th>\n",
              "      <td>0.279653</td>\n",
              "      <td>-0.019467</td>\n",
              "      <td>-0.113462</td>\n",
              "      <td>-0.995380</td>\n",
              "      <td>-0.967187</td>\n",
              "      <td>-0.978944</td>\n",
              "      <td>-0.996520</td>\n",
              "      <td>-0.963668</td>\n",
              "      <td>-0.977469</td>\n",
              "      <td>-0.938692</td>\n",
              "      <td>...</td>\n",
              "      <td>-0.118559</td>\n",
              "      <td>0.177899</td>\n",
              "      <td>0.100699</td>\n",
              "      <td>0.808529</td>\n",
              "      <td>-0.848933</td>\n",
              "      <td>0.180637</td>\n",
              "      <td>-0.049118</td>\n",
              "      <td>1</td>\n",
              "      <td>5</td>\n",
              "      <td>STANDING</td>\n",
              "    </tr>\n",
              "  </tbody>\n",
              "</table>\n",
              "<p>3 rows × 564 columns</p>\n",
              "</div>"
            ],
            "text/plain": [
              "   tBodyAccmeanX  tBodyAccmeanY  tBodyAccmeanZ  tBodyAccstdX  tBodyAccstdY  \\\n",
              "0       0.288585      -0.020294      -0.132905     -0.995279     -0.983111   \n",
              "1       0.278419      -0.016411      -0.123520     -0.998245     -0.975300   \n",
              "2       0.279653      -0.019467      -0.113462     -0.995380     -0.967187   \n",
              "\n",
              "   tBodyAccstdZ  tBodyAccmadX  tBodyAccmadY  tBodyAccmadZ  tBodyAccmaxX  \\\n",
              "0     -0.913526     -0.995112     -0.983185     -0.923527     -0.934724   \n",
              "1     -0.960322     -0.998807     -0.974914     -0.957686     -0.943068   \n",
              "2     -0.978944     -0.996520     -0.963668     -0.977469     -0.938692   \n",
              "\n",
              "       ...       angletBodyAccMeangravity  angletBodyAccJerkMeangravityMean  \\\n",
              "0      ...                      -0.112754                          0.030400   \n",
              "1      ...                       0.053477                         -0.007435   \n",
              "2      ...                      -0.118559                          0.177899   \n",
              "\n",
              "   angletBodyGyroMeangravityMean  angletBodyGyroJerkMeangravityMean  \\\n",
              "0                      -0.464761                          -0.018446   \n",
              "1                      -0.732626                           0.703511   \n",
              "2                       0.100699                           0.808529   \n",
              "\n",
              "   angleXgravityMean  angleYgravityMean  angleZgravityMean  subject  Activity  \\\n",
              "0          -0.841247           0.179941          -0.058627        1         5   \n",
              "1          -0.844788           0.180289          -0.054317        1         5   \n",
              "2          -0.848933           0.180637          -0.049118        1         5   \n",
              "\n",
              "   ActivityName  \n",
              "0      STANDING  \n",
              "1      STANDING  \n",
              "2      STANDING  \n",
              "\n",
              "[3 rows x 564 columns]"
            ]
          },
          "metadata": {
            "tags": []
          },
          "execution_count": 28
        }
      ]
    },
    {
      "cell_type": "code",
      "metadata": {
        "id": "xylm_njkYs2-",
        "outputId": "e4f2b9a4-15dc-40e0-e88d-6e64be7ed5eb",
        "colab": {
          "base_uri": "https://localhost:8080/",
          "height": 52
        }
      },
      "source": [
        "# get x_train and y_train from csv files\n",
        "x_train = train.drop(['subject', 'Activity', 'ActivityName'], axis=1)\n",
        "y_train = train.ActivityName\n",
        "\n",
        "# get x_test and y_test from test csv file\n",
        "x_test = test.drop(['subject', 'Activity', 'ActivityName'], axis=1)\n",
        "y_test = test.ActivityName\n",
        "\n",
        "print('x_train and y_train : ({},{})'.format(x_train.shape, y_train.shape))\n",
        "print('x_test  and y_test  : ({},{})'.format(x_test.shape, y_test.shape))"
      ],
      "execution_count": null,
      "outputs": [
        {
          "output_type": "stream",
          "text": [
            "x_train and y_train : ((7352, 561),(7352,))\n",
            "x_test  and y_test  : ((2947, 561),(2947,))\n"
          ],
          "name": "stdout"
        }
      ]
    },
    {
      "cell_type": "markdown",
      "metadata": {
        "id": "Fcog_HCwYs3A"
      },
      "source": [
        "### Labels that are useful in plotting confusion matrix"
      ]
    },
    {
      "cell_type": "code",
      "metadata": {
        "id": "hUq93UkuYs3A"
      },
      "source": [
        "labels=['LAYING', 'SITTING','STANDING','WALKING','WALKING_DOWNSTAIRS','WALKING_UPSTAIRS']"
      ],
      "execution_count": null,
      "outputs": []
    },
    {
      "cell_type": "markdown",
      "metadata": {
        "id": "FGdhkm_KYs3B"
      },
      "source": [
        "### Function to plot the confusion matrix"
      ]
    },
    {
      "cell_type": "code",
      "metadata": {
        "id": "HTPM9UBfYs3C"
      },
      "source": [
        "def plot_confusion_matrix(cm, classes,\n",
        "                          normalize=False,\n",
        "                          title='Confusion matrix',\n",
        "                          cmap=plt.cm.Blues):\n",
        "    if normalize:\n",
        "        cm = cm.astype('float') / cm.sum(axis=1)[:, np.newaxis]\n",
        "\n",
        "    plt.imshow(cm, interpolation='nearest', cmap=cmap)\n",
        "    plt.title(title)\n",
        "    plt.colorbar()\n",
        "    tick_marks = np.arange(len(classes))\n",
        "    plt.xticks(tick_marks, classes, rotation=90)\n",
        "    plt.yticks(tick_marks, classes)\n",
        "\n",
        "    fmt = '.2f' if normalize else 'd'\n",
        "    thresh = cm.max() / 2.\n",
        "    for i, j in itertools.product(range(cm.shape[0]), range(cm.shape[1])):\n",
        "        plt.text(j, i, format(cm[i, j], fmt),\n",
        "                 horizontalalignment=\"center\",\n",
        "                 color=\"white\" if cm[i, j] > thresh else \"black\")\n",
        "\n",
        "    plt.tight_layout()\n",
        "    plt.ylabel('True label')\n",
        "    plt.xlabel('Predicted label')"
      ],
      "execution_count": null,
      "outputs": []
    },
    {
      "cell_type": "markdown",
      "metadata": {
        "id": "4vkWaFeZYs3D"
      },
      "source": [
        "### Generic function to run any model specified"
      ]
    },
    {
      "cell_type": "code",
      "metadata": {
        "id": "1XF8oVf2Ys3F"
      },
      "source": [
        "def perform_model(model, X_train, y_train, X_test, y_test, class_labels, cm_normalize=True, \\\n",
        "                 print_cm=True, cm_cmap=plt.cm.Greens):    \n",
        "    # to store results at various phases\n",
        "    results = dict()\n",
        "    \n",
        "    # time at which model starts training \n",
        "    train_start_time = datetime.now()\n",
        "    print('training the model..')\n",
        "    model.fit(X_train, y_train)\n",
        "    print('Done \\n \\n')\n",
        "    train_end_time = datetime.now()\n",
        "    results['training_time'] =  train_end_time - train_start_time\n",
        "    print('training_time(HH:MM:SS.ms) - {}\\n\\n'.format(results['training_time']))\n",
        "    \n",
        "    \n",
        "    # predict test data\n",
        "    print('Predicting test data')\n",
        "    test_start_time = datetime.now()\n",
        "    y_pred = model.predict(X_test)\n",
        "    test_end_time = datetime.now()\n",
        "    print('Done \\n \\n')\n",
        "    results['testing_time'] = test_end_time - test_start_time\n",
        "    print('testing time(HH:MM:SS:ms) - {}\\n\\n'.format(results['testing_time']))\n",
        "    results['predicted'] = y_pred\n",
        "   \n",
        "\n",
        "    # calculate overall accuracty of the model\n",
        "    accuracy = metrics.accuracy_score(y_true=y_test, y_pred=y_pred)\n",
        "    # store accuracy in results\n",
        "    results['accuracy'] = accuracy\n",
        "    print('---------------------')\n",
        "    print('|      Accuracy      |')\n",
        "    print('---------------------')\n",
        "    print('\\n    {}\\n\\n'.format(accuracy))\n",
        "    \n",
        "    \n",
        "    # confusion matrix\n",
        "    cm = metrics.confusion_matrix(y_test, y_pred)\n",
        "    results['confusion_matrix'] = cm\n",
        "    if print_cm: \n",
        "        print('--------------------')\n",
        "        print('| Confusion Matrix |')\n",
        "        print('--------------------')\n",
        "        print('\\n {}'.format(cm))\n",
        "        \n",
        "    # plot confusin matrix\n",
        "    plt.figure(figsize=(8,8))\n",
        "    plt.grid(b=False)\n",
        "    plot_confusion_matrix(cm, classes=class_labels, normalize=True, title='Normalized confusion matrix', cmap = cm_cmap)\n",
        "    plt.show()\n",
        "    \n",
        "    # get classification report\n",
        "    print('-------------------------')\n",
        "    print('| Classifiction Report |')\n",
        "    print('-------------------------')\n",
        "    classification_report = metrics.classification_report(y_test, y_pred)\n",
        "    # store report in results\n",
        "    results['classification_report'] = classification_report\n",
        "    print(classification_report)\n",
        "    \n",
        "    # add the trained  model to the results\n",
        "    results['model'] = model\n",
        "    \n",
        "    return results"
      ],
      "execution_count": null,
      "outputs": []
    },
    {
      "cell_type": "markdown",
      "metadata": {
        "id": "XuskABK3Ys3G"
      },
      "source": [
        "### Method to print the gridsearch Attributes"
      ]
    },
    {
      "cell_type": "code",
      "metadata": {
        "id": "708GardeYs3G"
      },
      "source": [
        "def print_grid_search_attributes(model):\n",
        "    # Estimator that gave highest score among all the estimators formed in GridSearch\n",
        "    print('--------------------------')\n",
        "    print('|      Best Estimator     |')\n",
        "    print('--------------------------')\n",
        "    print('\\n\\t{}\\n'.format(model.best_estimator_))\n",
        "\n",
        "\n",
        "    # parameters that gave best results while performing grid search\n",
        "    print('--------------------------')\n",
        "    print('|     Best parameters     |')\n",
        "    print('--------------------------')\n",
        "    print('\\tParameters of best estimator : \\n\\n\\t{}\\n'.format(model.best_params_))\n",
        "\n",
        "\n",
        "    #  number of cross validation splits\n",
        "    print('---------------------------------')\n",
        "    print('|   No of CrossValidation sets   |')\n",
        "    print('--------------------------------')\n",
        "    print('\\n\\tTotal numbre of cross validation sets: {}\\n'.format(model.n_splits_))\n",
        "\n",
        "\n",
        "    # Average cross validated score of the best estimator, from the Grid Search \n",
        "    print('--------------------------')\n",
        "    print('|        Best Score       |')\n",
        "    print('--------------------------')\n",
        "    print('\\n\\tAverage Cross Validate scores of best estimator : \\n\\n\\t{}\\n'.format(model.best_score_))"
      ],
      "execution_count": null,
      "outputs": []
    },
    {
      "cell_type": "markdown",
      "metadata": {
        "id": "J44Ya54LYs3I"
      },
      "source": [
        "# 1. Logistic Regression with Grid Search"
      ]
    },
    {
      "cell_type": "code",
      "metadata": {
        "id": "XKXwrtGiYs3I"
      },
      "source": [
        "# start Grid search\n",
        "parameters = {'C':[0.01, 0.1, 1, 10, 20, 30], 'penalty':['l2','l1']}\n",
        "log_reg = linear_model.LogisticRegression()\n",
        "log_reg_grid = GridSearchCV(log_reg, param_grid=parameters, cv=3, verbose=1, n_jobs=-1)\n",
        "log_reg_grid_results =  perform_model(log_reg_grid, x_train, y_train, x_test, y_test, class_labels=labels)"
      ],
      "execution_count": null,
      "outputs": []
    },
    {
      "cell_type": "code",
      "metadata": {
        "id": "5VG1sGedYs3K"
      },
      "source": [
        "plt.figure(figsize=(8,8))\n",
        "plt.grid(b=False)\n",
        "plot_confusion_matrix(log_reg_grid_results['confusion_matrix'], classes=labels, cmap=plt.cm.Greens)\n",
        "plt.show()"
      ],
      "execution_count": null,
      "outputs": []
    },
    {
      "cell_type": "code",
      "metadata": {
        "id": "g4pUE1inYs3L"
      },
      "source": [
        "# observe the attributes of the model \n",
        "print_grid_search_attributes(log_reg_grid_results['model'])"
      ],
      "execution_count": null,
      "outputs": []
    },
    {
      "cell_type": "markdown",
      "metadata": {
        "id": "DrToSLUHYs3N"
      },
      "source": [
        "#  2. Linear SVC with GridSearch"
      ]
    },
    {
      "cell_type": "code",
      "metadata": {
        "id": "YI582MXHYs3N"
      },
      "source": [
        "parameters = {'C':[0.125, 0.5, 1, 2, 8, 16]}\n",
        "lr_svc = LinearSVC(tol=0.00005)\n",
        "lr_svc_grid = GridSearchCV(lr_svc, param_grid=parameters, n_jobs=-1, verbose=1)\n",
        "lr_svc_grid_results = perform_model(lr_svc_grid, x_train, y_train, x_test, y_test, class_labels=labels)"
      ],
      "execution_count": null,
      "outputs": []
    },
    {
      "cell_type": "code",
      "metadata": {
        "id": "OiYvr08cYs3P"
      },
      "source": [
        "plt.figure(figsize=(8,8))\n",
        "plt.grid(b=False)\n",
        "plot_confusion_matrix(lr_svc_grid_results['confusion_matrix'], classes=labels, cmap=plt.cm.Greens)\n",
        "plt.show()"
      ],
      "execution_count": null,
      "outputs": []
    },
    {
      "cell_type": "code",
      "metadata": {
        "id": "LtXSdQjGYs3R"
      },
      "source": [
        "print_grid_search_attributes(lr_svc_grid_results['model'])"
      ],
      "execution_count": null,
      "outputs": []
    },
    {
      "cell_type": "markdown",
      "metadata": {
        "id": "5fNW6KtOYs3U"
      },
      "source": [
        "# 3.  RBF Kernel SVM with GridSearch"
      ]
    },
    {
      "cell_type": "code",
      "metadata": {
        "id": "ePwTlT8AYs3U"
      },
      "source": [
        "parameters = {'C':[2,8,16],\\\n",
        "              'gamma': [ 0.0078125, 0.125, 2]}\n",
        "rbf_svm = SVC(kernel='rbf')\n",
        "rbf_svm_grid = GridSearchCV(rbf_svm,param_grid=parameters, n_jobs=-1)\n",
        "rbf_svm_grid_results = perform_model(rbf_svm_grid, x_train, y_train, x_test, y_test, class_labels=labels)"
      ],
      "execution_count": null,
      "outputs": []
    },
    {
      "cell_type": "code",
      "metadata": {
        "id": "Bx9vvVN6Ys3W"
      },
      "source": [
        "plt.figure(figsize=(8,8))\n",
        "plt.grid(b=False)\n",
        "plot_confusion_matrix(rbf_svm_grid_results['confusion_matrix'], classes=labels, cmap=plt.cm.Greens)\n",
        "plt.show()"
      ],
      "execution_count": null,
      "outputs": []
    },
    {
      "cell_type": "code",
      "metadata": {
        "id": "WW0OIMlOYs3Y"
      },
      "source": [
        "print_grid_search_attributes(rbf_svm_grid_results['model'])"
      ],
      "execution_count": null,
      "outputs": []
    },
    {
      "cell_type": "markdown",
      "metadata": {
        "id": "4G_MDHzOYs3Z"
      },
      "source": [
        "# 4. Decision Tree with GridSearch"
      ]
    },
    {
      "cell_type": "code",
      "metadata": {
        "id": "QG8YZj0WYs3a"
      },
      "source": [
        "parameters = {'max_depth':np.arange(3,10,2)}\n",
        "dt = DecisionTreeClassifier()\n",
        "dt_grid = GridSearchCV(dt,param_grid=parameters, n_jobs=-1)\n",
        "dt_grid_results = perform_model(dt_grid, x_train, y_train, x_test, y_test, class_labels=labels)"
      ],
      "execution_count": null,
      "outputs": []
    },
    {
      "cell_type": "code",
      "metadata": {
        "id": "_7dKBGzsYs3b"
      },
      "source": [
        "plt.figure(figsize=(8,8))\n",
        "plt.grid(b=False)\n",
        "plot_confusion_matrix(dt_grid_results['confusion_matrix'], classes=labels, cmap=plt.cm.Greens)\n",
        "plt.show()"
      ],
      "execution_count": null,
      "outputs": []
    },
    {
      "cell_type": "code",
      "metadata": {
        "id": "-tmSHDWHYs3c"
      },
      "source": [
        "print_grid_search_attributes(dt_grid_results['model'])"
      ],
      "execution_count": null,
      "outputs": []
    },
    {
      "cell_type": "markdown",
      "metadata": {
        "id": "rw0A1MMeYs3f"
      },
      "source": [
        "# 5. Random Forest Classifier with GridSearch"
      ]
    },
    {
      "cell_type": "code",
      "metadata": {
        "id": "vRLRLCfgYs3g"
      },
      "source": [
        "params = {'n_estimators': np.arange(10,201,20), 'max_depth':np.arange(3,15,2)}\n",
        "rfc = RandomForestClassifier()\n",
        "rfc_grid = GridSearchCV(rfc, param_grid=params, n_jobs=-1)\n",
        "rfc_grid_results = perform_model(rfc_grid, x_train, y_train, x_test, y_test, class_labels=labels)"
      ],
      "execution_count": null,
      "outputs": []
    },
    {
      "cell_type": "code",
      "metadata": {
        "id": "iBlSi0jeYs3i"
      },
      "source": [
        "plt.figure(figsize=(8,8))\n",
        "plt.grid(b=False)\n",
        "plot_confusion_matrix(rfc_grid_results['confusion_matrix'], classes=labels, cmap=plt.cm.Greens)\n",
        "plt.show()"
      ],
      "execution_count": null,
      "outputs": []
    },
    {
      "cell_type": "code",
      "metadata": {
        "id": "WmhVM9fWYs3j"
      },
      "source": [
        "print_grid_search_attributes(rfc_grid_results['model'])"
      ],
      "execution_count": null,
      "outputs": []
    },
    {
      "cell_type": "markdown",
      "metadata": {
        "id": "GhxQiJ_WYs3l"
      },
      "source": [
        "# 6.  Gradient Boosted Decision Trees With GridSearch"
      ]
    },
    {
      "cell_type": "code",
      "metadata": {
        "id": "TLtlImvXYs3m"
      },
      "source": [
        "param_grid = {'max_depth': np.arange(5,8,1), \\\n",
        "             'n_estimators':np.arange(130,170,10)}\n",
        "gbdt = GradientBoostingClassifier()\n",
        "gbdt_grid = GridSearchCV(gbdt, param_grid=param_grid, n_jobs=-1)\n",
        "gbdt_grid_results = perform_model(gbdt_grid, x_train, y_train, x_test, y_test, class_labels=labels)"
      ],
      "execution_count": null,
      "outputs": []
    },
    {
      "cell_type": "code",
      "metadata": {
        "id": "4Az0V2RCYs3n"
      },
      "source": [
        "plt.figure(figsize=(8,8))\n",
        "plt.grid(b=False)\n",
        "plot_confusion_matrix(gbdt_grid_results['confusion_matrix'], classes=labels, cmap=plt.cm.Greens)\n",
        "plt.show()"
      ],
      "execution_count": null,
      "outputs": []
    },
    {
      "cell_type": "code",
      "metadata": {
        "id": "u75Gxu3GYs3q"
      },
      "source": [
        "print_grid_search_attributes(gbdt_grid_results['model'])"
      ],
      "execution_count": null,
      "outputs": []
    },
    {
      "cell_type": "markdown",
      "metadata": {
        "id": "yRJaENsEYs3s"
      },
      "source": [
        "# 7. Comparing all models"
      ]
    },
    {
      "cell_type": "code",
      "metadata": {
        "id": "N1hKjP2YYs3s"
      },
      "source": [
        "print('\\n                     Accuracy     Error')\n",
        "print('                     ----------   --------')\n",
        "print('Logistic Regression : {:.04}%       {:.04}%'.format(log_reg_grid_results['accuracy'] * 100,\\\n",
        "                                                  100-(log_reg_grid_results['accuracy'] * 100)))\n",
        "\n",
        "print('Linear SVC          : {:.04}%       {:.04}% '.format(lr_svc_grid_results['accuracy'] * 100,\\\n",
        "                                                        100-(lr_svc_grid_results['accuracy'] * 100)))\n",
        "\n",
        "print('RBF SVM classifier  : {:.04}%      {:.04}% '.format(rbf_svm_grid_results['accuracy'] * 100,\\\n",
        "                                                          100-(rbf_svm_grid_results['accuracy'] * 100)))\n",
        "\n",
        "print('DecisionTree        : {:.04}%      {:.04}% '.format(dt_grid_results['accuracy'] * 100,\\\n",
        "                                                        100-(dt_grid_results['accuracy'] * 100)))\n",
        "\n",
        "print('Random Forest       : {:.04}%      {:.04}% '.format(rfc_grid_results['accuracy'] * 100,\\\n",
        "                                                           100-(rfc_grid_results['accuracy'] * 100)))\n",
        "print('GradientBoosting DT : {:.04}%      {:.04}% '.format(rfc_grid_results['accuracy'] * 100,\\\n",
        "                                                        100-(rfc_grid_results['accuracy'] * 100)))"
      ],
      "execution_count": null,
      "outputs": []
    },
    {
      "cell_type": "markdown",
      "metadata": {
        "id": "kxpoxeRfYs3u"
      },
      "source": [
        "> We can choose ___Logistic regression___ or ___Linear SVC___ or ___RBF SVM___."
      ]
    },
    {
      "cell_type": "markdown",
      "metadata": {
        "id": "yEMbO89BYs3u"
      },
      "source": [
        "<br>\n",
        "<br>\n",
        "<br>"
      ]
    },
    {
      "cell_type": "markdown",
      "metadata": {
        "id": "jB6xfeKTYs3u"
      },
      "source": [
        "## Apply Deep Learning Models"
      ]
    },
    {
      "cell_type": "code",
      "metadata": {
        "id": "QGDLEQMbYs3v"
      },
      "source": [
        "# Activities are the class labels\n",
        "# It is a 6 class classification\n",
        "ACTIVITIES = {\n",
        "    0: 'WALKING',\n",
        "    1: 'WALKING_UPSTAIRS',\n",
        "    2: 'WALKING_DOWNSTAIRS',\n",
        "    3: 'SITTING',\n",
        "    4: 'STANDING',\n",
        "    5: 'LAYING',\n",
        "}\n",
        "\n",
        "# Data directory\n",
        "DATADIR = 'UCI_HAR_Dataset'\n",
        "\n",
        "# Raw data signals\n",
        "# Signals are from Accelerometer and Gyroscope\n",
        "# The signals are in x,y,z directions\n",
        "# Sensor signals are filtered to have only body acceleration\n",
        "# excluding the acceleration due to gravity\n",
        "# Triaxial acceleration from the accelerometer is total acceleration\n",
        "SIGNALS = [\n",
        "    \"body_acc_x\",\n",
        "    \"body_acc_y\",\n",
        "    \"body_acc_z\",\n",
        "    \"body_gyro_x\",\n",
        "    \"body_gyro_y\",\n",
        "    \"body_gyro_z\",\n",
        "    \"total_acc_x\",\n",
        "    \"total_acc_y\",\n",
        "    \"total_acc_z\"\n",
        "]"
      ],
      "execution_count": 8,
      "outputs": []
    },
    {
      "cell_type": "code",
      "metadata": {
        "id": "mnDxL0fBYs3w"
      },
      "source": [
        "# Utility function to print the confusion matrix\n",
        "def confusion_matrix_dl(Y_true, Y_pred):\n",
        "    Y_true = pd.Series([ACTIVITIES[y] for y in np.argmax(Y_true, axis=1)])\n",
        "    Y_pred = pd.Series([ACTIVITIES[y] for y in np.argmax(Y_pred, axis=1)])\n",
        "    return pd.crosstab(Y_true, Y_pred, rownames=['True'], colnames=['Pred'])\n",
        "\n",
        "# Utility function to read the data from csv file\n",
        "def _read_csv(filename):\n",
        "    return pd.read_csv(filename, delim_whitespace=True, header=None)\n",
        "\n",
        "# Utility function to load the load\n",
        "def load_signals(subset):\n",
        "    signals_data = []\n",
        "\n",
        "    for signal in SIGNALS:\n",
        "        filename = f'/content/Motor/UCI_HAR_dataset/{subset}/Inertial Signals/{signal}_{subset}.txt'\n",
        "        signals_data.append(\n",
        "            _read_csv(filename).as_matrix()\n",
        "        ) \n",
        "\n",
        "    # Transpose is used to change the dimensionality of the output,\n",
        "    # aggregating the signals by combination of sample/timestep.\n",
        "    # Resultant shape is (7352 train/2947 test samples, 128 timesteps, 9 signals)\n",
        "    return np.transpose(signals_data, (1, 2, 0))\n",
        "\n",
        "def load_y(subset):\n",
        "    \"\"\"\n",
        "    The objective that we are trying to predict is a integer, from 1 to 6,\n",
        "    that represents a human activity. We return a binary representation of \n",
        "    every sample objective as a 6 bits vector using One Hot Encoding\n",
        "    (https://pandas.pydata.org/pandas-docs/stable/generated/pandas.get_dummies.html)\n",
        "    \"\"\"\n",
        "    filename = f'/content/Motor/UCI_HAR_dataset/{subset}/y_{subset}.txt'\n",
        "    y = _read_csv(filename)[0]\n",
        "\n",
        "    return pd.get_dummies(y).as_matrix()\n",
        "\n",
        "def load_data():\n",
        "    \"\"\"\n",
        "    Obtain the dataset from multiple files.\n",
        "    Returns: X_train, X_test, y_train, y_test\n",
        "    \"\"\"\n",
        "    X_train, X_test = load_signals('train'), load_signals('test')\n",
        "    y_train, y_test = load_y('train'), load_y('test')\n",
        "\n",
        "    return X_train, X_test, y_train, y_test\n",
        "\n",
        "# Utility function to count the number of classes\n",
        "def _count_classes(y):\n",
        "    return len(set([tuple(category) for category in y]))"
      ],
      "execution_count": 9,
      "outputs": []
    },
    {
      "cell_type": "code",
      "metadata": {
        "id": "gnsT27poYs3y"
      },
      "source": [
        "# Configuring a session\n",
        "session_conf = tf.compat.v1.ConfigProto(\n",
        "    intra_op_parallelism_threads=1,\n",
        "    inter_op_parallelism_threads=1\n",
        ")\n",
        "\n",
        "sess =  tf.compat.v1.Session(graph=tf.compat.v1.get_default_graph(), config=session_conf)\n",
        "tf.compat.v1.keras.backend.set_session(sess)"
      ],
      "execution_count": 18,
      "outputs": []
    },
    {
      "cell_type": "code",
      "metadata": {
        "id": "KC9RA3ccYs3z"
      },
      "source": [
        "# Initializing parameters\n",
        "epochs = 30\n",
        "batch_size = 16\n",
        "n_hidden = 32"
      ],
      "execution_count": 19,
      "outputs": []
    },
    {
      "cell_type": "code",
      "metadata": {
        "id": "vPILFP7iYs31"
      },
      "source": [
        "# Loading the train and test data\n",
        "x_train, x_test, y_train, y_test = load_data()"
      ],
      "execution_count": 20,
      "outputs": []
    },
    {
      "cell_type": "code",
      "metadata": {
        "id": "qyLb5YsyYs34",
        "outputId": "81f07a94-cc4e-4a95-d623-0002762af824",
        "colab": {
          "base_uri": "https://localhost:8080/",
          "height": 69
        }
      },
      "source": [
        "timesteps = len(x_train[0])\n",
        "input_dim = len(x_train[0][0])\n",
        "n_classes = _count_classes(y_train)\n",
        "\n",
        "print(timesteps)\n",
        "print(input_dim)\n",
        "print(len(x_train))"
      ],
      "execution_count": 21,
      "outputs": [
        {
          "output_type": "stream",
          "text": [
            "128\n",
            "9\n",
            "7352\n"
          ],
          "name": "stdout"
        }
      ]
    },
    {
      "cell_type": "markdown",
      "metadata": {
        "id": "QhTZPDdIYs35"
      },
      "source": [
        "## 1-Layer of LSTM"
      ]
    },
    {
      "cell_type": "code",
      "metadata": {
        "id": "bdFjknkUYs35",
        "outputId": "052518ef-0a2d-40d3-f71e-93d5776f7e46",
        "colab": {
          "base_uri": "https://localhost:8080/",
          "height": 260
        }
      },
      "source": [
        "# Initiliazing the sequential model\n",
        "model = Sequential()\n",
        "# Configuring the parameters\n",
        "model.add(LSTM(n_hidden, input_shape=(timesteps, input_dim)))\n",
        "# Adding a dropout layer\n",
        "model.add(Dropout(0.5))\n",
        "# Adding a dense output layer with sigmoid activation\n",
        "model.add(Dense(n_classes, activation='sigmoid'))\n",
        "model.summary()"
      ],
      "execution_count": 22,
      "outputs": [
        {
          "output_type": "stream",
          "text": [
            "Model: \"sequential\"\n",
            "_________________________________________________________________\n",
            "Layer (type)                 Output Shape              Param #   \n",
            "=================================================================\n",
            "lstm (LSTM)                  (None, 32)                5376      \n",
            "_________________________________________________________________\n",
            "dropout (Dropout)            (None, 32)                0         \n",
            "_________________________________________________________________\n",
            "dense (Dense)                (None, 6)                 198       \n",
            "=================================================================\n",
            "Total params: 5,574\n",
            "Trainable params: 5,574\n",
            "Non-trainable params: 0\n",
            "_________________________________________________________________\n"
          ],
          "name": "stdout"
        }
      ]
    },
    {
      "cell_type": "code",
      "metadata": {
        "id": "MFuST1AEYs36"
      },
      "source": [
        "# Compiling the model\n",
        "model.compile(loss='categorical_crossentropy',\n",
        "              optimizer='rmsprop',\n",
        "              metrics=['accuracy'])"
      ],
      "execution_count": 23,
      "outputs": []
    },
    {
      "cell_type": "code",
      "metadata": {
        "id": "c4QnYTPfYs38",
        "outputId": "a968ca6c-ff3c-40b8-9d2b-f91ea3ec2ae0",
        "colab": {
          "base_uri": "https://localhost:8080/",
          "height": 1000
        }
      },
      "source": [
        "# Training the model\n",
        "model.fit(x_train,\n",
        "          y_train,\n",
        "          batch_size=batch_size,\n",
        "          validation_data=(x_test, y_test),\n",
        "          epochs=epochs)"
      ],
      "execution_count": 24,
      "outputs": [
        {
          "output_type": "stream",
          "text": [
            "Epoch 1/30\n",
            "460/460 [==============================] - 4s 10ms/step - loss: 1.2670 - accuracy: 0.4976 - val_loss: 1.0124 - val_accuracy: 0.5643\n",
            "Epoch 2/30\n",
            "460/460 [==============================] - 4s 9ms/step - loss: 0.8744 - accuracy: 0.6187 - val_loss: 0.8265 - val_accuracy: 0.5711\n",
            "Epoch 3/30\n",
            "460/460 [==============================] - 4s 8ms/step - loss: 0.7698 - accuracy: 0.6254 - val_loss: 0.8362 - val_accuracy: 0.6047\n",
            "Epoch 4/30\n",
            "460/460 [==============================] - 4s 9ms/step - loss: 0.7473 - accuracy: 0.6507 - val_loss: 0.7755 - val_accuracy: 0.6213\n",
            "Epoch 5/30\n",
            "460/460 [==============================] - 4s 9ms/step - loss: 0.6877 - accuracy: 0.6672 - val_loss: 0.7296 - val_accuracy: 0.6220\n",
            "Epoch 6/30\n",
            "460/460 [==============================] - 4s 9ms/step - loss: 0.7077 - accuracy: 0.6674 - val_loss: 0.7562 - val_accuracy: 0.6451\n",
            "Epoch 7/30\n",
            "460/460 [==============================] - 4s 9ms/step - loss: 0.5989 - accuracy: 0.7281 - val_loss: 0.6840 - val_accuracy: 0.7350\n",
            "Epoch 8/30\n",
            "460/460 [==============================] - 4s 9ms/step - loss: 0.5790 - accuracy: 0.7597 - val_loss: 0.6750 - val_accuracy: 0.7248\n",
            "Epoch 9/30\n",
            "460/460 [==============================] - 4s 9ms/step - loss: 0.4960 - accuracy: 0.7962 - val_loss: 0.6438 - val_accuracy: 0.7577\n",
            "Epoch 10/30\n",
            "460/460 [==============================] - 4s 9ms/step - loss: 0.4626 - accuracy: 0.8300 - val_loss: 0.5614 - val_accuracy: 0.8130\n",
            "Epoch 11/30\n",
            "460/460 [==============================] - 4s 8ms/step - loss: 0.3948 - accuracy: 0.8719 - val_loss: 0.4829 - val_accuracy: 0.8504\n",
            "Epoch 12/30\n",
            "460/460 [==============================] - 4s 9ms/step - loss: 0.3245 - accuracy: 0.8988 - val_loss: 0.4864 - val_accuracy: 0.8565\n",
            "Epoch 13/30\n",
            "460/460 [==============================] - 4s 8ms/step - loss: 0.2888 - accuracy: 0.9089 - val_loss: 0.4019 - val_accuracy: 0.8714\n",
            "Epoch 14/30\n",
            "460/460 [==============================] - 4s 8ms/step - loss: 0.2608 - accuracy: 0.9219 - val_loss: 0.6971 - val_accuracy: 0.8405\n",
            "Epoch 15/30\n",
            "460/460 [==============================] - 4s 9ms/step - loss: 0.2590 - accuracy: 0.9203 - val_loss: 0.4360 - val_accuracy: 0.8839\n",
            "Epoch 16/30\n",
            "460/460 [==============================] - 4s 9ms/step - loss: 0.2569 - accuracy: 0.9215 - val_loss: 0.4143 - val_accuracy: 0.8860\n",
            "Epoch 17/30\n",
            "460/460 [==============================] - 4s 9ms/step - loss: 0.2064 - accuracy: 0.9339 - val_loss: 0.4499 - val_accuracy: 0.8904\n",
            "Epoch 18/30\n",
            "460/460 [==============================] - 4s 9ms/step - loss: 0.2055 - accuracy: 0.9328 - val_loss: 0.4387 - val_accuracy: 0.8904\n",
            "Epoch 19/30\n",
            "460/460 [==============================] - 4s 9ms/step - loss: 0.2229 - accuracy: 0.9331 - val_loss: 0.4648 - val_accuracy: 0.8873\n",
            "Epoch 20/30\n",
            "460/460 [==============================] - 4s 8ms/step - loss: 0.1997 - accuracy: 0.9366 - val_loss: 0.4821 - val_accuracy: 0.8958\n",
            "Epoch 21/30\n",
            "460/460 [==============================] - 4s 8ms/step - loss: 0.1881 - accuracy: 0.9372 - val_loss: 0.5017 - val_accuracy: 0.8863\n",
            "Epoch 22/30\n",
            "460/460 [==============================] - 4s 9ms/step - loss: 0.2031 - accuracy: 0.9351 - val_loss: 0.4905 - val_accuracy: 0.8894\n",
            "Epoch 23/30\n",
            "460/460 [==============================] - 4s 9ms/step - loss: 0.1816 - accuracy: 0.9378 - val_loss: 0.5268 - val_accuracy: 0.8863\n",
            "Epoch 24/30\n",
            "460/460 [==============================] - 4s 9ms/step - loss: 0.1821 - accuracy: 0.9350 - val_loss: 0.6174 - val_accuracy: 0.8751\n",
            "Epoch 25/30\n",
            "460/460 [==============================] - 4s 10ms/step - loss: 0.2297 - accuracy: 0.9320 - val_loss: 0.4681 - val_accuracy: 0.8931\n",
            "Epoch 26/30\n",
            "460/460 [==============================] - 4s 9ms/step - loss: 0.2050 - accuracy: 0.9304 - val_loss: 0.4478 - val_accuracy: 0.9040\n",
            "Epoch 27/30\n",
            "460/460 [==============================] - 4s 9ms/step - loss: 0.1726 - accuracy: 0.9389 - val_loss: 0.3907 - val_accuracy: 0.9104\n",
            "Epoch 28/30\n",
            "460/460 [==============================] - 4s 9ms/step - loss: 0.1752 - accuracy: 0.9416 - val_loss: 0.3881 - val_accuracy: 0.9131\n",
            "Epoch 29/30\n",
            "460/460 [==============================] - 4s 9ms/step - loss: 0.1688 - accuracy: 0.9407 - val_loss: 0.3869 - val_accuracy: 0.9074\n",
            "Epoch 30/30\n",
            "460/460 [==============================] - 4s 9ms/step - loss: 0.1583 - accuracy: 0.9440 - val_loss: 0.4248 - val_accuracy: 0.8918\n"
          ],
          "name": "stdout"
        },
        {
          "output_type": "execute_result",
          "data": {
            "text/plain": [
              "<tensorflow.python.keras.callbacks.History at 0x7f182807ed30>"
            ]
          },
          "metadata": {
            "tags": []
          },
          "execution_count": 24
        }
      ]
    },
    {
      "cell_type": "code",
      "metadata": {
        "id": "ofCZqNCeYs38",
        "outputId": "a2d50227-6bba-4a93-89c8-c13d10e53cfe",
        "colab": {
          "base_uri": "https://localhost:8080/",
          "height": 311
        }
      },
      "source": [
        "# Confusion Matrix\n",
        "print(confusion_matrix_dl(y_test, model.predict(x_test)))"
      ],
      "execution_count": 25,
      "outputs": [
        {
          "output_type": "stream",
          "text": [
            "Pred                LAYING  SITTING  STANDING  WALKING  WALKING_DOWNSTAIRS  \\\n",
            "True                                                                         \n",
            "LAYING                 495       19         0        4                   0   \n",
            "SITTING                  0      414        77        0                   0   \n",
            "STANDING                 0      100       432        0                   0   \n",
            "WALKING                  0        2         2      450                  38   \n",
            "WALKING_DOWNSTAIRS       0        0         0        1                 419   \n",
            "WALKING_UPSTAIRS         0        1         2       29                  21   \n",
            "\n",
            "Pred                WALKING_UPSTAIRS  \n",
            "True                                  \n",
            "LAYING                            19  \n",
            "SITTING                            0  \n",
            "STANDING                           0  \n",
            "WALKING                            4  \n",
            "WALKING_DOWNSTAIRS                 0  \n",
            "WALKING_UPSTAIRS                 418  \n"
          ],
          "name": "stdout"
        }
      ]
    },
    {
      "cell_type": "code",
      "metadata": {
        "id": "oJ3rjuhqYs39",
        "outputId": "ea149b8c-8944-42ed-e5be-6942b73e4702",
        "colab": {
          "base_uri": "https://localhost:8080/",
          "height": 34
        }
      },
      "source": [
        "score = model.evaluate(x_test, y_test)"
      ],
      "execution_count": 26,
      "outputs": [
        {
          "output_type": "stream",
          "text": [
            "93/93 [==============================] - 0s 4ms/step - loss: 0.4248 - accuracy: 0.8918\n"
          ],
          "name": "stdout"
        }
      ]
    },
    {
      "cell_type": "code",
      "metadata": {
        "id": "bdFquB5dYs3-",
        "outputId": "3c1bfa91-f1d6-4990-85a7-be7667fdf1d0",
        "colab": {
          "base_uri": "https://localhost:8080/",
          "height": 34
        }
      },
      "source": [
        "score"
      ],
      "execution_count": 27,
      "outputs": [
        {
          "output_type": "execute_result",
          "data": {
            "text/plain": [
              "[0.4248107671737671, 0.8917543292045593]"
            ]
          },
          "metadata": {
            "tags": []
          },
          "execution_count": 27
        }
      ]
    },
    {
      "cell_type": "markdown",
      "metadata": {
        "id": "AGuIkrXeYs3_"
      },
      "source": [
        "## 2-Layer of LSTM with more hyperparameter tunning"
      ]
    },
    {
      "cell_type": "markdown",
      "metadata": {
        "id": "M9NeXlOGYs4A"
      },
      "source": [
        "### Tuning the Number of neurons with dropout of 0.50"
      ]
    },
    {
      "cell_type": "markdown",
      "metadata": {
        "id": "kNBSK0jpYs4A"
      },
      "source": [
        "Configuration:"
      ]
    },
    {
      "cell_type": "code",
      "metadata": {
        "id": "RNVpHq_sYs4A"
      },
      "source": [
        "# Initializing parameters\n",
        "n_epochs = 30\n",
        "n_batch = 16\n",
        "n_classes = _count_classes(y_train)\n",
        "\n",
        "# Bias regularizer value - we will use elasticnet\n",
        "reg = L1L2(0.01, 0.01)"
      ],
      "execution_count": 28,
      "outputs": []
    },
    {
      "cell_type": "code",
      "metadata": {
        "id": "JmRF7fFIYs4B"
      },
      "source": [
        "# Plot Confusion Matrix\n",
        "def plot_confusion_matrix_lstm(y_test, y_predict):\n",
        "    result = confusion_matrix(y_test, y_predict)\n",
        "\n",
        "    plt.figure(figsize=(12, 10))\n",
        "    sns.heatmap(result, \n",
        "                xticklabels= list(ACTIVITIES.values()), \n",
        "                yticklabels=list(ACTIVITIES.values()), \n",
        "                annot=True, fmt=\"d\");\n",
        "    plt.title(\"Confusion matrix\")\n",
        "    plt.ylabel('True label')\n",
        "    plt.xlabel('Predicted label')\n",
        "    plt.show()  \n",
        "    \n",
        "# Plot train and cross validation loss\n",
        "def plot_train_cv_loss(trained_model, epochs, colors=['b']):\n",
        "    fig, ax = plt.subplots(1,1)    \n",
        "    ax.set_xlabel('epoch') \n",
        "    ax.set_ylabel('Categorical Crossentropy Loss')\n",
        "    x_axis_values = list(range(1,epochs+1))\n",
        "\n",
        "    validation_loss = trained_model.history['val_loss']\n",
        "    train_loss = trained_model.history['loss']   \n",
        "    \n",
        "    ax.plot(x_axis_values, validation_loss, 'b', label=\"Validation Loss\")\n",
        "    ax.plot(x_axis_values, train_loss, 'r', label=\"Train Loss\")\n",
        "    plt.legend()\n",
        "    plt.grid()\n",
        "    fig.canvas.draw() "
      ],
      "execution_count": 29,
      "outputs": []
    },
    {
      "cell_type": "markdown",
      "metadata": {
        "id": "UEpJMmJ4Ys4F"
      },
      "source": [
        "### 32 neurons in LSTM Layer with dropout of 0.50"
      ]
    },
    {
      "cell_type": "code",
      "metadata": {
        "scrolled": false,
        "id": "QrljKitIYs4F",
        "outputId": "b5235e20-ac76-42c1-a182-652b1c2e3eec",
        "colab": {
          "base_uri": "https://localhost:8080/",
          "height": 380
        }
      },
      "source": [
        "# Model execution\n",
        "model = Sequential()\n",
        "model.add(LSTM(32, input_shape=(timesteps, input_dim), return_sequences=True,bias_regularizer=reg ))\n",
        "model.add(BatchNormalization())\n",
        "model.add(Dropout(0.50))\n",
        "model.add(LSTM(32))\n",
        "model.add(Dropout(0.50))\n",
        "model.add(Dense(n_classes, activation='sigmoid'))\n",
        "print(\"Model Summary: \")\n",
        "model.summary()"
      ],
      "execution_count": 30,
      "outputs": [
        {
          "output_type": "stream",
          "text": [
            "Model Summary: \n",
            "Model: \"sequential_1\"\n",
            "_________________________________________________________________\n",
            "Layer (type)                 Output Shape              Param #   \n",
            "=================================================================\n",
            "lstm_1 (LSTM)                (None, 128, 32)           5376      \n",
            "_________________________________________________________________\n",
            "batch_normalization (BatchNo (None, 128, 32)           128       \n",
            "_________________________________________________________________\n",
            "dropout_1 (Dropout)          (None, 128, 32)           0         \n",
            "_________________________________________________________________\n",
            "lstm_2 (LSTM)                (None, 32)                8320      \n",
            "_________________________________________________________________\n",
            "dropout_2 (Dropout)          (None, 32)                0         \n",
            "_________________________________________________________________\n",
            "dense_1 (Dense)              (None, 6)                 198       \n",
            "=================================================================\n",
            "Total params: 14,022\n",
            "Trainable params: 13,958\n",
            "Non-trainable params: 64\n",
            "_________________________________________________________________\n"
          ],
          "name": "stdout"
        }
      ]
    },
    {
      "cell_type": "code",
      "metadata": {
        "id": "Gv5vaqkEYs4G"
      },
      "source": [
        "model.compile(loss='categorical_crossentropy',\n",
        "          optimizer='adam',\n",
        "          metrics=['accuracy'])"
      ],
      "execution_count": 31,
      "outputs": []
    },
    {
      "cell_type": "code",
      "metadata": {
        "id": "---1vK9kYs4I",
        "outputId": "c1169908-f04d-4864-9c96-785a312213f3",
        "colab": {
          "base_uri": "https://localhost:8080/",
          "height": 1000
        }
      },
      "source": [
        "start = datetime.now()\n",
        "\n",
        "# Training the model\n",
        "trained_model  = model.fit(x_train,\n",
        "                           y_train,\n",
        "                           batch_size=n_batch,\n",
        "                           validation_data=(x_test, y_test),\n",
        "                           epochs=n_epochs)\n",
        "\n",
        "print(\"\\n Time Taken: \",datetime.now() - start)"
      ],
      "execution_count": 32,
      "outputs": [
        {
          "output_type": "stream",
          "text": [
            "Epoch 1/30\n",
            "460/460 [==============================] - 7s 16ms/step - loss: 1.5499 - accuracy: 0.5516 - val_loss: 1.2228 - val_accuracy: 0.5521\n",
            "Epoch 2/30\n",
            "460/460 [==============================] - 7s 15ms/step - loss: 0.9111 - accuracy: 0.7063 - val_loss: 0.6443 - val_accuracy: 0.8331\n",
            "Epoch 3/30\n",
            "460/460 [==============================] - 7s 15ms/step - loss: 0.5390 - accuracy: 0.8547 - val_loss: 0.3667 - val_accuracy: 0.8877\n",
            "Epoch 4/30\n",
            "460/460 [==============================] - 7s 14ms/step - loss: 0.3884 - accuracy: 0.8938 - val_loss: 0.3457 - val_accuracy: 0.8846\n",
            "Epoch 5/30\n",
            "460/460 [==============================] - 7s 15ms/step - loss: 0.2972 - accuracy: 0.9187 - val_loss: 0.3487 - val_accuracy: 0.8670\n",
            "Epoch 6/30\n",
            "460/460 [==============================] - 7s 14ms/step - loss: 0.2582 - accuracy: 0.9192 - val_loss: 0.3371 - val_accuracy: 0.8809\n",
            "Epoch 7/30\n",
            "460/460 [==============================] - 7s 15ms/step - loss: 0.2445 - accuracy: 0.9263 - val_loss: 0.2633 - val_accuracy: 0.8985\n",
            "Epoch 8/30\n",
            "460/460 [==============================] - 7s 15ms/step - loss: 0.2087 - accuracy: 0.9338 - val_loss: 0.3161 - val_accuracy: 0.8962\n",
            "Epoch 9/30\n",
            "460/460 [==============================] - 7s 15ms/step - loss: 0.2004 - accuracy: 0.9344 - val_loss: 0.2584 - val_accuracy: 0.9138\n",
            "Epoch 10/30\n",
            "460/460 [==============================] - 7s 15ms/step - loss: 0.2123 - accuracy: 0.9300 - val_loss: 0.3018 - val_accuracy: 0.8965\n",
            "Epoch 11/30\n",
            "460/460 [==============================] - 7s 15ms/step - loss: 0.1816 - accuracy: 0.9358 - val_loss: 0.2851 - val_accuracy: 0.9084\n",
            "Epoch 12/30\n",
            "460/460 [==============================] - 7s 15ms/step - loss: 0.1954 - accuracy: 0.9343 - val_loss: 0.2683 - val_accuracy: 0.9104\n",
            "Epoch 13/30\n",
            "460/460 [==============================] - 7s 15ms/step - loss: 0.2006 - accuracy: 0.9328 - val_loss: 0.2330 - val_accuracy: 0.9172\n",
            "Epoch 14/30\n",
            "460/460 [==============================] - 7s 15ms/step - loss: 0.1708 - accuracy: 0.9416 - val_loss: 0.2451 - val_accuracy: 0.9080\n",
            "Epoch 15/30\n",
            "460/460 [==============================] - 7s 15ms/step - loss: 0.1723 - accuracy: 0.9411 - val_loss: 0.2036 - val_accuracy: 0.9206\n",
            "Epoch 16/30\n",
            "460/460 [==============================] - 7s 16ms/step - loss: 0.1784 - accuracy: 0.9348 - val_loss: 0.2459 - val_accuracy: 0.9063\n",
            "Epoch 17/30\n",
            "460/460 [==============================] - 7s 15ms/step - loss: 0.1710 - accuracy: 0.9377 - val_loss: 0.2608 - val_accuracy: 0.9131\n",
            "Epoch 18/30\n",
            "460/460 [==============================] - 7s 15ms/step - loss: 0.1576 - accuracy: 0.9449 - val_loss: 0.2388 - val_accuracy: 0.9206\n",
            "Epoch 19/30\n",
            "460/460 [==============================] - 7s 15ms/step - loss: 0.1505 - accuracy: 0.9427 - val_loss: 0.2547 - val_accuracy: 0.9230\n",
            "Epoch 20/30\n",
            "460/460 [==============================] - 7s 15ms/step - loss: 0.1485 - accuracy: 0.9501 - val_loss: 0.1864 - val_accuracy: 0.9253\n",
            "Epoch 21/30\n",
            "460/460 [==============================] - 7s 15ms/step - loss: 0.1499 - accuracy: 0.9455 - val_loss: 0.2733 - val_accuracy: 0.9040\n",
            "Epoch 22/30\n",
            "460/460 [==============================] - 7s 15ms/step - loss: 0.1927 - accuracy: 0.9348 - val_loss: 0.2002 - val_accuracy: 0.9253\n",
            "Epoch 23/30\n",
            "460/460 [==============================] - 7s 15ms/step - loss: 0.1532 - accuracy: 0.9463 - val_loss: 0.2336 - val_accuracy: 0.9199\n",
            "Epoch 24/30\n",
            "460/460 [==============================] - 7s 15ms/step - loss: 0.1499 - accuracy: 0.9487 - val_loss: 0.1998 - val_accuracy: 0.9257\n",
            "Epoch 25/30\n",
            "460/460 [==============================] - 7s 15ms/step - loss: 0.1702 - accuracy: 0.9444 - val_loss: 0.4907 - val_accuracy: 0.8778\n",
            "Epoch 26/30\n",
            "460/460 [==============================] - 7s 15ms/step - loss: 0.1663 - accuracy: 0.9376 - val_loss: 0.2274 - val_accuracy: 0.9169\n",
            "Epoch 27/30\n",
            "460/460 [==============================] - 7s 16ms/step - loss: 0.1478 - accuracy: 0.9449 - val_loss: 0.3135 - val_accuracy: 0.9080\n",
            "Epoch 28/30\n",
            "460/460 [==============================] - 7s 15ms/step - loss: 0.1435 - accuracy: 0.9465 - val_loss: 0.2498 - val_accuracy: 0.9165\n",
            "Epoch 29/30\n",
            "460/460 [==============================] - 7s 16ms/step - loss: 0.1684 - accuracy: 0.9421 - val_loss: 0.2445 - val_accuracy: 0.9209\n",
            "Epoch 30/30\n",
            "460/460 [==============================] - 7s 15ms/step - loss: 0.1739 - accuracy: 0.9406 - val_loss: 0.3060 - val_accuracy: 0.9196\n",
            "\n",
            " Time Taken:  0:03:29.417474\n"
          ],
          "name": "stdout"
        }
      ]
    },
    {
      "cell_type": "code",
      "metadata": {
        "id": "hzKVPxQmYs4K",
        "outputId": "c9727694-0b9d-4bb5-f797-974935261fec",
        "colab": {
          "base_uri": "https://localhost:8080/",
          "height": 315
        }
      },
      "source": [
        "print()\n",
        "print()\n",
        "\n",
        "# Plot train and cross validation error\n",
        "plot_train_cv_loss(trained_model, n_epochs)"
      ],
      "execution_count": 33,
      "outputs": [
        {
          "output_type": "stream",
          "text": [
            "\n",
            "\n"
          ],
          "name": "stdout"
        },
        {
          "output_type": "display_data",
          "data": {
            "image/png": "[encoded data removed]",
            "text/plain": [
              "<Figure size 432x288 with 1 Axes>"
            ]
          },
          "metadata": {
            "tags": [],
            "needs_background": "light"
          }
        }
      ]
    },
    {
      "cell_type": "markdown",
      "metadata": {
        "id": "cXCPJmkpYs4L"
      },
      "source": [
        "From epoch 10, we starts to overfit the model, so best value for epoch is 10"
      ]
    },
    {
      "cell_type": "code",
      "metadata": {
        "id": "WGkdXB1kYs4L",
        "outputId": "09f065b1-84e6-40fa-fb0e-23bbec673944",
        "colab": {
          "base_uri": "https://localhost:8080/",
          "height": 782
        }
      },
      "source": [
        "print()\n",
        "scores = model.evaluate(x_test, y_test, verbose=0)\n",
        "print(\"Test Accuracy: %f%%\" % (scores[1]*100))\n",
        "print()\n",
        "\n",
        "Y_true = pd.Series([ACTIVITIES[y] for y in np.argmax(y_test, axis=1)])\n",
        "Y_predictions = pd.Series([ACTIVITIES[y] for y in np.argmax(model.predict(x_test), axis=1)])\n",
        "\n",
        "# Confusion Matrix\n",
        "plot_confusion_matrix_lstm(Y_true, Y_predictions)"
      ],
      "execution_count": 34,
      "outputs": [
        {
          "output_type": "stream",
          "text": [
            "\n",
            "Test Accuracy: 91.957921%\n",
            "\n"
          ],
          "name": "stdout"
        },
        {
          "output_type": "display_data",
          "data": {
            "image/png": "[encoded data removed]",
            "text/plain": [
              "<Figure size 864x720 with 2 Axes>"
            ]
          },
          "metadata": {
            "tags": [],
            "needs_background": "light"
          }
        }
      ]
    },
    {
      "cell_type": "markdown",
      "metadata": {
        "id": "XUtJmBTOYs4M"
      },
      "source": [
        "<br/>\n",
        "<br/>\n",
        "\n",
        "### 48 neurons in LSTM Layer with dropout of 0.50"
      ]
    },
    {
      "cell_type": "code",
      "metadata": {
        "id": "KWhK0_jFYs4M",
        "outputId": "08f383a0-2a69-4987-8b88-dd9136a4c44d",
        "colab": {
          "base_uri": "https://localhost:8080/",
          "height": 380
        }
      },
      "source": [
        "# Model execution\n",
        "model = Sequential()\n",
        "model.add(LSTM(48, input_shape=(timesteps, input_dim), return_sequences=True, bias_regularizer=reg))\n",
        "model.add(BatchNormalization())\n",
        "model.add(Dropout(0.50))\n",
        "model.add(LSTM(32))\n",
        "model.add(Dropout(0.50))\n",
        "model.add(Dense(n_classes, activation='sigmoid'))\n",
        "print(\"Model Summary: \")\n",
        "model.summary()"
      ],
      "execution_count": 35,
      "outputs": [
        {
          "output_type": "stream",
          "text": [
            "Model Summary: \n",
            "Model: \"sequential_2\"\n",
            "_________________________________________________________________\n",
            "Layer (type)                 Output Shape              Param #   \n",
            "=================================================================\n",
            "lstm_3 (LSTM)                (None, 128, 48)           11136     \n",
            "_________________________________________________________________\n",
            "batch_normalization_1 (Batch (None, 128, 48)           192       \n",
            "_________________________________________________________________\n",
            "dropout_3 (Dropout)          (None, 128, 48)           0         \n",
            "_________________________________________________________________\n",
            "lstm_4 (LSTM)                (None, 32)                10368     \n",
            "_________________________________________________________________\n",
            "dropout_4 (Dropout)          (None, 32)                0         \n",
            "_________________________________________________________________\n",
            "dense_2 (Dense)              (None, 6)                 198       \n",
            "=================================================================\n",
            "Total params: 21,894\n",
            "Trainable params: 21,798\n",
            "Non-trainable params: 96\n",
            "_________________________________________________________________\n"
          ],
          "name": "stdout"
        }
      ]
    },
    {
      "cell_type": "code",
      "metadata": {
        "id": "bnfcOsaDYs4N"
      },
      "source": [
        "model.compile(loss='categorical_crossentropy',\n",
        "          optimizer='adam',\n",
        "          metrics=['accuracy'])"
      ],
      "execution_count": 36,
      "outputs": []
    },
    {
      "cell_type": "code",
      "metadata": {
        "id": "qpPBwj80Ys4O",
        "outputId": "7006bb72-6130-41da-bb10-9e05779fa027",
        "colab": {
          "base_uri": "https://localhost:8080/",
          "height": 1000
        }
      },
      "source": [
        "start = datetime.now()\n",
        "\n",
        "# Training the model\n",
        "trained_model  = model.fit(x_train,\n",
        "                           y_train,\n",
        "                           batch_size=n_batch,\n",
        "                           validation_data=(x_test, y_test),\n",
        "                           epochs=n_epochs)\n",
        "\n",
        "print(\"\\n Time Taken: \",datetime.now() - start)"
      ],
      "execution_count": 37,
      "outputs": [
        {
          "output_type": "stream",
          "text": [
            "Epoch 1/30\n",
            "460/460 [==============================] - 7s 16ms/step - loss: 1.7712 - accuracy: 0.6152 - val_loss: 1.2363 - val_accuracy: 0.7279\n",
            "Epoch 2/30\n",
            "460/460 [==============================] - 7s 14ms/step - loss: 0.9718 - accuracy: 0.7625 - val_loss: 0.7843 - val_accuracy: 0.7913\n",
            "Epoch 3/30\n",
            "460/460 [==============================] - 7s 15ms/step - loss: 0.5686 - accuracy: 0.8486 - val_loss: 0.3634 - val_accuracy: 0.9026\n",
            "Epoch 4/30\n",
            "460/460 [==============================] - 7s 15ms/step - loss: 0.3929 - accuracy: 0.8932 - val_loss: 0.4195 - val_accuracy: 0.8554\n",
            "Epoch 5/30\n",
            "460/460 [==============================] - 7s 15ms/step - loss: 0.3027 - accuracy: 0.9138 - val_loss: 0.3020 - val_accuracy: 0.9043\n",
            "Epoch 6/30\n",
            "460/460 [==============================] - 7s 15ms/step - loss: 0.2473 - accuracy: 0.9221 - val_loss: 0.2640 - val_accuracy: 0.9087\n",
            "Epoch 7/30\n",
            "460/460 [==============================] - 7s 15ms/step - loss: 0.2352 - accuracy: 0.9302 - val_loss: 0.3113 - val_accuracy: 0.8894\n",
            "Epoch 8/30\n",
            "460/460 [==============================] - 7s 15ms/step - loss: 0.2249 - accuracy: 0.9309 - val_loss: 0.2841 - val_accuracy: 0.8992\n",
            "Epoch 9/30\n",
            "460/460 [==============================] - 7s 15ms/step - loss: 0.1986 - accuracy: 0.9369 - val_loss: 0.2486 - val_accuracy: 0.9097\n",
            "Epoch 10/30\n",
            "460/460 [==============================] - 7s 14ms/step - loss: 0.1885 - accuracy: 0.9403 - val_loss: 0.3511 - val_accuracy: 0.8717\n",
            "Epoch 11/30\n",
            "460/460 [==============================] - 7s 15ms/step - loss: 0.2069 - accuracy: 0.9370 - val_loss: 0.2948 - val_accuracy: 0.9057\n",
            "Epoch 12/30\n",
            "460/460 [==============================] - 7s 15ms/step - loss: 0.1978 - accuracy: 0.9342 - val_loss: 0.3132 - val_accuracy: 0.8907\n",
            "Epoch 13/30\n",
            "460/460 [==============================] - 7s 14ms/step - loss: 0.1767 - accuracy: 0.9404 - val_loss: 0.2586 - val_accuracy: 0.9104\n",
            "Epoch 14/30\n",
            "460/460 [==============================] - 7s 15ms/step - loss: 0.1680 - accuracy: 0.9421 - val_loss: 0.2439 - val_accuracy: 0.9213\n",
            "Epoch 15/30\n",
            "460/460 [==============================] - 7s 15ms/step - loss: 0.1750 - accuracy: 0.9372 - val_loss: 0.7602 - val_accuracy: 0.8008\n",
            "Epoch 16/30\n",
            "460/460 [==============================] - 7s 15ms/step - loss: 0.1964 - accuracy: 0.9332 - val_loss: 0.8069 - val_accuracy: 0.8392\n",
            "Epoch 17/30\n",
            "460/460 [==============================] - 7s 15ms/step - loss: 0.1835 - accuracy: 0.9408 - val_loss: 0.2665 - val_accuracy: 0.9203\n",
            "Epoch 18/30\n",
            "460/460 [==============================] - 7s 15ms/step - loss: 0.1677 - accuracy: 0.9421 - val_loss: 0.2624 - val_accuracy: 0.9257\n",
            "Epoch 19/30\n",
            "460/460 [==============================] - 7s 15ms/step - loss: 0.1621 - accuracy: 0.9446 - val_loss: 0.2493 - val_accuracy: 0.9213\n",
            "Epoch 20/30\n",
            "460/460 [==============================] - 7s 15ms/step - loss: 0.1677 - accuracy: 0.9423 - val_loss: 0.2607 - val_accuracy: 0.9253\n",
            "Epoch 21/30\n",
            "460/460 [==============================] - 7s 14ms/step - loss: 0.1812 - accuracy: 0.9372 - val_loss: 0.2289 - val_accuracy: 0.9243\n",
            "Epoch 22/30\n",
            "460/460 [==============================] - 7s 14ms/step - loss: 0.1490 - accuracy: 0.9450 - val_loss: 0.2386 - val_accuracy: 0.9335\n",
            "Epoch 23/30\n",
            "460/460 [==============================] - 7s 14ms/step - loss: 0.1418 - accuracy: 0.9463 - val_loss: 0.2466 - val_accuracy: 0.9257\n",
            "Epoch 24/30\n",
            "460/460 [==============================] - 7s 15ms/step - loss: 0.1519 - accuracy: 0.9395 - val_loss: 0.2543 - val_accuracy: 0.9209\n",
            "Epoch 25/30\n",
            "460/460 [==============================] - 7s 15ms/step - loss: 0.1386 - accuracy: 0.9479 - val_loss: 0.2213 - val_accuracy: 0.9291\n",
            "Epoch 26/30\n",
            "460/460 [==============================] - 7s 15ms/step - loss: 0.1344 - accuracy: 0.9461 - val_loss: 0.2530 - val_accuracy: 0.9301\n",
            "Epoch 27/30\n",
            "460/460 [==============================] - 7s 15ms/step - loss: 0.1534 - accuracy: 0.9448 - val_loss: 0.3359 - val_accuracy: 0.9111\n",
            "Epoch 28/30\n",
            "460/460 [==============================] - 7s 15ms/step - loss: 0.1465 - accuracy: 0.9460 - val_loss: 0.2646 - val_accuracy: 0.9199\n",
            "Epoch 29/30\n",
            "460/460 [==============================] - 7s 15ms/step - loss: 0.1546 - accuracy: 0.9436 - val_loss: 0.2764 - val_accuracy: 0.9226\n",
            "Epoch 30/30\n",
            "460/460 [==============================] - 7s 14ms/step - loss: 0.1389 - accuracy: 0.9493 - val_loss: 0.2364 - val_accuracy: 0.9301\n",
            "\n",
            " Time Taken:  0:03:27.437519\n"
          ],
          "name": "stdout"
        }
      ]
    },
    {
      "cell_type": "code",
      "metadata": {
        "id": "Aan54BEiYs4P",
        "outputId": "65f730b5-080e-4fea-9168-29bbddac47cd",
        "colab": {
          "base_uri": "https://localhost:8080/",
          "height": 313
        }
      },
      "source": [
        "print()\n",
        "print()\n",
        "\n",
        "# Plot train and cross validation error\n",
        "plot_train_cv_loss(trained_model, n_epochs)"
      ],
      "execution_count": 38,
      "outputs": [
        {
          "output_type": "stream",
          "text": [
            "\n",
            "\n"
          ],
          "name": "stdout"
        },
        {
          "output_type": "display_data",
          "data": {
            "image/png": "[encoded data removed]",
            "text/plain": [
              "<Figure size 432x288 with 1 Axes>"
            ]
          },
          "metadata": {
            "tags": [],
            "needs_background": "light"
          }
        }
      ]
    },
    {
      "cell_type": "markdown",
      "metadata": {
        "id": "ZGWcGXX0Ys4S"
      },
      "source": [
        "From epoch 7, we starts to overfit the model, so best value for epoch is 7"
      ]
    },
    {
      "cell_type": "code",
      "metadata": {
        "id": "YzSFdRi9Ys4S",
        "outputId": "82c4efa8-7e94-4d69-bf28-6aeedeecd5e5",
        "colab": {
          "base_uri": "https://localhost:8080/",
          "height": 782
        }
      },
      "source": [
        "print()\n",
        "scores = model.evaluate(x_test, y_test, verbose=0)\n",
        "print(\"Test Accuracy: %f%%\" % (scores[1]*100))\n",
        "print()\n",
        "\n",
        "Y_true = pd.Series([ACTIVITIES[y] for y in np.argmax(y_test, axis=1)])\n",
        "Y_predictions = pd.Series([ACTIVITIES[y] for y in np.argmax(model.predict(x_test), axis=1)])\n",
        "\n",
        "# Confusion Matrix\n",
        "plot_confusion_matrix_lstm(Y_true, Y_predictions)"
      ],
      "execution_count": 39,
      "outputs": [
        {
          "output_type": "stream",
          "text": [
            "\n",
            "Test Accuracy: 93.009841%\n",
            "\n"
          ],
          "name": "stdout"
        },
        {
          "output_type": "display_data",
          "data": {
            "image/png": "[encoded data removed]",
            "text/plain": [
              "<Figure size 864x720 with 2 Axes>"
            ]
          },
          "metadata": {
            "tags": [],
            "needs_background": "light"
          }
        }
      ]
    },
    {
      "cell_type": "markdown",
      "metadata": {
        "id": "3U5VNpCnYs4T"
      },
      "source": [
        "<br/>\n",
        "<br/>\n",
        "\n",
        "### 64 neurons in LSTM Layer with dropout of 0.50"
      ]
    },
    {
      "cell_type": "code",
      "metadata": {
        "id": "CiWZeeBUYs4U",
        "outputId": "f706d9cb-6e74-45ff-f264-6e5e280ef3bf",
        "colab": {
          "base_uri": "https://localhost:8080/",
          "height": 380
        }
      },
      "source": [
        "# Model execution\n",
        "model = Sequential()\n",
        "model.add(LSTM(64, input_shape=(timesteps, input_dim), return_sequences=True, bias_regularizer=reg))\n",
        "model.add(BatchNormalization())\n",
        "model.add(Dropout(0.50))\n",
        "model.add(LSTM(48))\n",
        "model.add(Dropout(0.50))\n",
        "model.add(Dense(n_classes, activation='sigmoid'))\n",
        "print(\"Model Summary: \")\n",
        "model.summary()"
      ],
      "execution_count": 40,
      "outputs": [
        {
          "output_type": "stream",
          "text": [
            "Model Summary: \n",
            "Model: \"sequential_3\"\n",
            "_________________________________________________________________\n",
            "Layer (type)                 Output Shape              Param #   \n",
            "=================================================================\n",
            "lstm_5 (LSTM)                (None, 128, 64)           18944     \n",
            "_________________________________________________________________\n",
            "batch_normalization_2 (Batch (None, 128, 64)           256       \n",
            "_________________________________________________________________\n",
            "dropout_5 (Dropout)          (None, 128, 64)           0         \n",
            "_________________________________________________________________\n",
            "lstm_6 (LSTM)                (None, 48)                21696     \n",
            "_________________________________________________________________\n",
            "dropout_6 (Dropout)          (None, 48)                0         \n",
            "_________________________________________________________________\n",
            "dense_3 (Dense)              (None, 6)                 294       \n",
            "=================================================================\n",
            "Total params: 41,190\n",
            "Trainable params: 41,062\n",
            "Non-trainable params: 128\n",
            "_________________________________________________________________\n"
          ],
          "name": "stdout"
        }
      ]
    },
    {
      "cell_type": "code",
      "metadata": {
        "id": "5Hx72fYAYs4V"
      },
      "source": [
        "model.compile(loss='categorical_crossentropy',\n",
        "          optimizer='adam',\n",
        "          metrics=['accuracy'])"
      ],
      "execution_count": 41,
      "outputs": []
    },
    {
      "cell_type": "code",
      "metadata": {
        "id": "L5vfAVcTYs4W",
        "outputId": "f2b4aa10-e303-4136-e1ee-c5193c322ef2",
        "colab": {
          "base_uri": "https://localhost:8080/",
          "height": 1000
        }
      },
      "source": [
        "start = datetime.now()\n",
        "\n",
        "# Training the model\n",
        "trained_model  = model.fit(x_train,\n",
        "                           y_train,\n",
        "                           batch_size=n_batch,\n",
        "                           validation_data=(x_test, y_test),\n",
        "                           epochs=n_epochs)\n",
        "\n",
        "print(\"\\n Time Taken: \",datetime.now() - start)"
      ],
      "execution_count": 42,
      "outputs": [
        {
          "output_type": "stream",
          "text": [
            "Epoch 1/30\n",
            "460/460 [==============================] - 7s 16ms/step - loss: 1.8661 - accuracy: 0.6356 - val_loss: 2.1192 - val_accuracy: 0.5372\n",
            "Epoch 2/30\n",
            "460/460 [==============================] - 7s 15ms/step - loss: 1.0439 - accuracy: 0.7413 - val_loss: 0.7101 - val_accuracy: 0.8409\n",
            "Epoch 3/30\n",
            "460/460 [==============================] - 7s 15ms/step - loss: 0.5172 - accuracy: 0.8671 - val_loss: 0.3725 - val_accuracy: 0.8761\n",
            "Epoch 4/30\n",
            "460/460 [==============================] - 7s 15ms/step - loss: 0.3051 - accuracy: 0.9101 - val_loss: 0.3278 - val_accuracy: 0.8867\n",
            "Epoch 5/30\n",
            "460/460 [==============================] - 7s 15ms/step - loss: 0.2676 - accuracy: 0.9157 - val_loss: 0.3523 - val_accuracy: 0.8728\n",
            "Epoch 6/30\n",
            "460/460 [==============================] - 7s 14ms/step - loss: 0.2292 - accuracy: 0.9266 - val_loss: 0.2276 - val_accuracy: 0.9101\n",
            "Epoch 7/30\n",
            "460/460 [==============================] - 7s 15ms/step - loss: 0.1776 - accuracy: 0.9365 - val_loss: 0.2401 - val_accuracy: 0.9063\n",
            "Epoch 8/30\n",
            "460/460 [==============================] - 7s 15ms/step - loss: 0.1816 - accuracy: 0.9340 - val_loss: 0.2588 - val_accuracy: 0.9118\n",
            "Epoch 9/30\n",
            "460/460 [==============================] - 7s 15ms/step - loss: 0.1709 - accuracy: 0.9354 - val_loss: 0.2252 - val_accuracy: 0.9179\n",
            "Epoch 10/30\n",
            "460/460 [==============================] - 7s 16ms/step - loss: 0.1518 - accuracy: 0.9444 - val_loss: 0.2308 - val_accuracy: 0.9138\n",
            "Epoch 11/30\n",
            "460/460 [==============================] - 7s 14ms/step - loss: 0.1575 - accuracy: 0.9430 - val_loss: 0.2140 - val_accuracy: 0.9325\n",
            "Epoch 12/30\n",
            "460/460 [==============================] - 7s 15ms/step - loss: 0.1679 - accuracy: 0.9414 - val_loss: 0.2272 - val_accuracy: 0.9230\n",
            "Epoch 13/30\n",
            "460/460 [==============================] - 7s 15ms/step - loss: 0.1751 - accuracy: 0.9342 - val_loss: 0.1879 - val_accuracy: 0.9237\n",
            "Epoch 14/30\n",
            "460/460 [==============================] - 6s 14ms/step - loss: 0.1536 - accuracy: 0.9416 - val_loss: 0.2319 - val_accuracy: 0.9114\n",
            "Epoch 15/30\n",
            "460/460 [==============================] - 7s 14ms/step - loss: 0.1464 - accuracy: 0.9440 - val_loss: 0.2448 - val_accuracy: 0.9304\n",
            "Epoch 16/30\n",
            "460/460 [==============================] - 6s 14ms/step - loss: 0.1747 - accuracy: 0.9381 - val_loss: 0.3108 - val_accuracy: 0.9074\n",
            "Epoch 17/30\n",
            "460/460 [==============================] - 6s 14ms/step - loss: 0.1512 - accuracy: 0.9437 - val_loss: 0.2160 - val_accuracy: 0.9220\n",
            "Epoch 18/30\n",
            "460/460 [==============================] - 6s 14ms/step - loss: 0.1369 - accuracy: 0.9465 - val_loss: 0.2866 - val_accuracy: 0.9091\n",
            "Epoch 19/30\n",
            "460/460 [==============================] - 7s 14ms/step - loss: 0.1324 - accuracy: 0.9476 - val_loss: 0.3177 - val_accuracy: 0.9135\n",
            "Epoch 20/30\n",
            "460/460 [==============================] - 7s 14ms/step - loss: 0.1523 - accuracy: 0.9416 - val_loss: 0.2338 - val_accuracy: 0.9152\n",
            "Epoch 21/30\n",
            "460/460 [==============================] - 7s 16ms/step - loss: 0.1992 - accuracy: 0.9308 - val_loss: 0.2904 - val_accuracy: 0.9148\n",
            "Epoch 22/30\n",
            "460/460 [==============================] - 7s 15ms/step - loss: 0.1562 - accuracy: 0.9444 - val_loss: 0.2414 - val_accuracy: 0.9141\n",
            "Epoch 23/30\n",
            "460/460 [==============================] - 7s 16ms/step - loss: 0.1469 - accuracy: 0.9456 - val_loss: 0.2558 - val_accuracy: 0.9145\n",
            "Epoch 24/30\n",
            "460/460 [==============================] - 7s 15ms/step - loss: 0.1291 - accuracy: 0.9504 - val_loss: 0.2802 - val_accuracy: 0.9084\n",
            "Epoch 25/30\n",
            "460/460 [==============================] - 7s 15ms/step - loss: 0.1369 - accuracy: 0.9460 - val_loss: 0.2870 - val_accuracy: 0.9101\n",
            "Epoch 26/30\n",
            "460/460 [==============================] - 7s 15ms/step - loss: 0.1224 - accuracy: 0.9508 - val_loss: 0.2726 - val_accuracy: 0.9175\n",
            "Epoch 27/30\n",
            "460/460 [==============================] - 7s 15ms/step - loss: 0.1295 - accuracy: 0.9512 - val_loss: 0.3009 - val_accuracy: 0.9213\n",
            "Epoch 28/30\n",
            "460/460 [==============================] - 7s 15ms/step - loss: 0.1292 - accuracy: 0.9504 - val_loss: 0.3224 - val_accuracy: 0.9074\n",
            "Epoch 29/30\n",
            "460/460 [==============================] - 7s 15ms/step - loss: 0.1586 - accuracy: 0.9423 - val_loss: 0.2217 - val_accuracy: 0.9155\n",
            "Epoch 30/30\n",
            "460/460 [==============================] - 7s 15ms/step - loss: 0.1431 - accuracy: 0.9472 - val_loss: 0.2272 - val_accuracy: 0.9175\n",
            "\n",
            " Time Taken:  0:03:27.455062\n"
          ],
          "name": "stdout"
        }
      ]
    },
    {
      "cell_type": "code",
      "metadata": {
        "id": "B3YgosbQYs4X",
        "outputId": "9148ddf2-d593-4f68-9be0-c5189df1ffd5",
        "colab": {
          "base_uri": "https://localhost:8080/",
          "height": 313
        }
      },
      "source": [
        "print()\n",
        "print()\n",
        "\n",
        "# Plot train and cross validation error\n",
        "plot_train_cv_loss(trained_model, n_epochs)"
      ],
      "execution_count": 43,
      "outputs": [
        {
          "output_type": "stream",
          "text": [
            "\n",
            "\n"
          ],
          "name": "stdout"
        },
        {
          "output_type": "display_data",
          "data": {
            "image/png": "[encoded data removed]",
            "text/plain": [
              "<Figure size 432x288 with 1 Axes>"
            ]
          },
          "metadata": {
            "tags": [],
            "needs_background": "light"
          }
        }
      ]
    },
    {
      "cell_type": "markdown",
      "metadata": {
        "id": "ui6OWNEuYs4Y"
      },
      "source": [
        "From epoch 8, we starts to overfit the model, so best value for epoch is 8"
      ]
    },
    {
      "cell_type": "code",
      "metadata": {
        "id": "yjjnN9KqYs4Y",
        "outputId": "de008e80-a1c7-4aca-e2d5-f40a4fb41465",
        "colab": {
          "base_uri": "https://localhost:8080/",
          "height": 782
        }
      },
      "source": [
        "print()\n",
        "scores = model.evaluate(x_test, y_test, verbose=0)\n",
        "print(\"Test Accuracy: %f%%\" % (scores[1]*100))\n",
        "print()\n",
        "\n",
        "Y_true = pd.Series([ACTIVITIES[y] for y in np.argmax(y_test, axis=1)])\n",
        "Y_predictions = pd.Series([ACTIVITIES[y] for y in np.argmax(model.predict(x_test), axis=1)])\n",
        "\n",
        "# Confusion Matrix\n",
        "plot_confusion_matrix_lstm(Y_true, Y_predictions)"
      ],
      "execution_count": 44,
      "outputs": [
        {
          "output_type": "stream",
          "text": [
            "\n",
            "Test Accuracy: 91.754329%\n",
            "\n"
          ],
          "name": "stdout"
        },
        {
          "output_type": "display_data",
          "data": {
            "image/png": "[encoded data removed]",
            "text/plain": [
              "<Figure size 864x720 with 2 Axes>"
            ]
          },
          "metadata": {
            "tags": [],
            "needs_background": "light"
          }
        }
      ]
    },
    {
      "cell_type": "markdown",
      "metadata": {
        "id": "J7a6WohIYs4Z"
      },
      "source": [
        "<br/>\n",
        "<br/>\n",
        "\n",
        "### Tuning the number of neurons with dropout of 0.70"
      ]
    },
    {
      "cell_type": "markdown",
      "metadata": {
        "id": "YTmM8YUBYs4Z"
      },
      "source": [
        "Configuration:"
      ]
    },
    {
      "cell_type": "code",
      "metadata": {
        "id": "Ym05GDIGYs4Z"
      },
      "source": [
        "# Initializing parameters\n",
        "n_epochs = 30\n",
        "n_batch = 16\n",
        "n_classes = _count_classes(y_train)\n",
        "\n",
        "# Bias regularizer value - we will use elasticnet\n",
        "reg = L1L2(0.01, 0.01)"
      ],
      "execution_count": 45,
      "outputs": []
    },
    {
      "cell_type": "markdown",
      "metadata": {
        "id": "Z8x-RiGGYs4a"
      },
      "source": [
        "### 32 neurons in LSTM Layer with dropout of 0.70"
      ]
    },
    {
      "cell_type": "code",
      "metadata": {
        "id": "i1b7VT8xYs4a",
        "outputId": "3615f396-83b1-4afa-85e7-c406b605558a",
        "colab": {
          "base_uri": "https://localhost:8080/",
          "height": 380
        }
      },
      "source": [
        "# Model execution\n",
        "model = Sequential()\n",
        "model.add(LSTM(32, input_shape=(timesteps, input_dim), return_sequences=True, bias_regularizer=reg))\n",
        "model.add(BatchNormalization())\n",
        "model.add(Dropout(0.70))\n",
        "model.add(LSTM(32))\n",
        "model.add(Dropout(0.70))\n",
        "model.add(Dense(n_classes, activation='sigmoid'))\n",
        "print(\"Model Summary: \")\n",
        "model.summary()"
      ],
      "execution_count": 46,
      "outputs": [
        {
          "output_type": "stream",
          "text": [
            "Model Summary: \n",
            "Model: \"sequential_4\"\n",
            "_________________________________________________________________\n",
            "Layer (type)                 Output Shape              Param #   \n",
            "=================================================================\n",
            "lstm_7 (LSTM)                (None, 128, 32)           5376      \n",
            "_________________________________________________________________\n",
            "batch_normalization_3 (Batch (None, 128, 32)           128       \n",
            "_________________________________________________________________\n",
            "dropout_7 (Dropout)          (None, 128, 32)           0         \n",
            "_________________________________________________________________\n",
            "lstm_8 (LSTM)                (None, 32)                8320      \n",
            "_________________________________________________________________\n",
            "dropout_8 (Dropout)          (None, 32)                0         \n",
            "_________________________________________________________________\n",
            "dense_4 (Dense)              (None, 6)                 198       \n",
            "=================================================================\n",
            "Total params: 14,022\n",
            "Trainable params: 13,958\n",
            "Non-trainable params: 64\n",
            "_________________________________________________________________\n"
          ],
          "name": "stdout"
        }
      ]
    },
    {
      "cell_type": "code",
      "metadata": {
        "id": "WecQNzUOYs4b"
      },
      "source": [
        "model.compile(loss='categorical_crossentropy',\n",
        "          optimizer='adam',\n",
        "          metrics=['accuracy'])"
      ],
      "execution_count": 47,
      "outputs": []
    },
    {
      "cell_type": "code",
      "metadata": {
        "id": "en0i8pDlYs4d",
        "outputId": "fbac2fb7-f280-429d-95f7-b3de432f3a8e",
        "colab": {
          "base_uri": "https://localhost:8080/",
          "height": 1000
        }
      },
      "source": [
        "start = datetime.now()\n",
        "\n",
        "# Training the model\n",
        "trained_model  = model.fit(x_train,\n",
        "                           y_train,\n",
        "                           batch_size=n_batch,\n",
        "                           validation_data=(x_test, y_test),\n",
        "                           epochs=n_epochs)\n",
        "\n",
        "print(\"\\n Time Taken: \",datetime.now() - start)"
      ],
      "execution_count": 48,
      "outputs": [
        {
          "output_type": "stream",
          "text": [
            "Epoch 1/30\n",
            "460/460 [==============================] - 8s 17ms/step - loss: 1.7277 - accuracy: 0.5242 - val_loss: 1.2822 - val_accuracy: 0.5965\n",
            "Epoch 2/30\n",
            "460/460 [==============================] - 7s 15ms/step - loss: 1.1290 - accuracy: 0.5917 - val_loss: 1.0368 - val_accuracy: 0.6345\n",
            "Epoch 3/30\n",
            "460/460 [==============================] - 7s 14ms/step - loss: 0.9160 - accuracy: 0.6046 - val_loss: 0.7997 - val_accuracy: 0.5938\n",
            "Epoch 4/30\n",
            "460/460 [==============================] - 7s 15ms/step - loss: 0.8169 - accuracy: 0.6238 - val_loss: 0.7904 - val_accuracy: 0.5945\n",
            "Epoch 5/30\n",
            "460/460 [==============================] - 7s 15ms/step - loss: 0.7387 - accuracy: 0.6391 - val_loss: 0.7023 - val_accuracy: 0.6607\n",
            "Epoch 6/30\n",
            "460/460 [==============================] - 7s 15ms/step - loss: 0.7588 - accuracy: 0.6321 - val_loss: 0.6876 - val_accuracy: 0.6284\n",
            "Epoch 7/30\n",
            "460/460 [==============================] - 7s 15ms/step - loss: 0.7005 - accuracy: 0.6474 - val_loss: 0.7203 - val_accuracy: 0.6356\n",
            "Epoch 8/30\n",
            "460/460 [==============================] - 7s 15ms/step - loss: 0.7057 - accuracy: 0.6432 - val_loss: 0.6805 - val_accuracy: 0.6284\n",
            "Epoch 9/30\n",
            "460/460 [==============================] - 7s 15ms/step - loss: 0.6947 - accuracy: 0.6581 - val_loss: 0.6724 - val_accuracy: 0.6390\n",
            "Epoch 10/30\n",
            "460/460 [==============================] - 7s 15ms/step - loss: 0.6723 - accuracy: 0.6718 - val_loss: 0.7159 - val_accuracy: 0.5881\n",
            "Epoch 11/30\n",
            "460/460 [==============================] - 7s 15ms/step - loss: 0.6360 - accuracy: 0.6929 - val_loss: 0.5871 - val_accuracy: 0.7265\n",
            "Epoch 12/30\n",
            "460/460 [==============================] - 7s 15ms/step - loss: 0.5955 - accuracy: 0.7257 - val_loss: 0.5395 - val_accuracy: 0.7530\n",
            "Epoch 13/30\n",
            "460/460 [==============================] - 7s 15ms/step - loss: 0.5353 - accuracy: 0.7693 - val_loss: 0.4291 - val_accuracy: 0.8273\n",
            "Epoch 14/30\n",
            "460/460 [==============================] - 7s 15ms/step - loss: 0.5352 - accuracy: 0.7768 - val_loss: 0.4267 - val_accuracy: 0.7998\n",
            "Epoch 15/30\n",
            "460/460 [==============================] - 7s 15ms/step - loss: 0.4727 - accuracy: 0.7983 - val_loss: 0.3884 - val_accuracy: 0.8008\n",
            "Epoch 16/30\n",
            "460/460 [==============================] - 7s 15ms/step - loss: 0.4578 - accuracy: 0.8082 - val_loss: 0.3928 - val_accuracy: 0.8931\n",
            "Epoch 17/30\n",
            "460/460 [==============================] - 7s 15ms/step - loss: 0.4352 - accuracy: 0.8188 - val_loss: 0.3478 - val_accuracy: 0.8938\n",
            "Epoch 18/30\n",
            "460/460 [==============================] - 7s 16ms/step - loss: 0.3942 - accuracy: 0.8410 - val_loss: 0.3210 - val_accuracy: 0.9019\n",
            "Epoch 19/30\n",
            "460/460 [==============================] - 7s 15ms/step - loss: 0.3796 - accuracy: 0.8603 - val_loss: 0.2901 - val_accuracy: 0.8928\n",
            "Epoch 20/30\n",
            "460/460 [==============================] - 7s 15ms/step - loss: 0.3645 - accuracy: 0.8701 - val_loss: 0.3445 - val_accuracy: 0.8548\n",
            "Epoch 21/30\n",
            "460/460 [==============================] - 7s 15ms/step - loss: 0.3650 - accuracy: 0.8672 - val_loss: 0.2720 - val_accuracy: 0.8968\n",
            "Epoch 22/30\n",
            "460/460 [==============================] - 7s 16ms/step - loss: 0.3327 - accuracy: 0.8834 - val_loss: 0.3001 - val_accuracy: 0.8772\n",
            "Epoch 23/30\n",
            "460/460 [==============================] - 7s 15ms/step - loss: 0.2967 - accuracy: 0.9036 - val_loss: 0.3001 - val_accuracy: 0.8755\n",
            "Epoch 24/30\n",
            "460/460 [==============================] - 7s 15ms/step - loss: 0.2991 - accuracy: 0.9004 - val_loss: 0.2842 - val_accuracy: 0.9013\n",
            "Epoch 25/30\n",
            "460/460 [==============================] - 7s 16ms/step - loss: 0.2784 - accuracy: 0.9044 - val_loss: 0.2732 - val_accuracy: 0.9019\n",
            "Epoch 26/30\n",
            "460/460 [==============================] - 8s 16ms/step - loss: 0.2560 - accuracy: 0.9161 - val_loss: 0.2469 - val_accuracy: 0.9087\n",
            "Epoch 27/30\n",
            "460/460 [==============================] - 7s 16ms/step - loss: 0.2550 - accuracy: 0.9183 - val_loss: 0.2845 - val_accuracy: 0.9074\n",
            "Epoch 28/30\n",
            "460/460 [==============================] - 7s 15ms/step - loss: 0.3015 - accuracy: 0.9008 - val_loss: 0.2673 - val_accuracy: 0.9138\n",
            "Epoch 29/30\n",
            "460/460 [==============================] - 7s 14ms/step - loss: 0.2734 - accuracy: 0.9185 - val_loss: 0.2754 - val_accuracy: 0.9050\n",
            "Epoch 30/30\n",
            "460/460 [==============================] - 7s 15ms/step - loss: 0.2452 - accuracy: 0.9206 - val_loss: 0.2780 - val_accuracy: 0.9087\n",
            "\n",
            " Time Taken:  0:03:33.030624\n"
          ],
          "name": "stdout"
        }
      ]
    },
    {
      "cell_type": "code",
      "metadata": {
        "id": "-NLHWVnZYs4f",
        "outputId": "473df1bf-5e29-41fc-a32f-95a3dfc2dbee",
        "colab": {
          "base_uri": "https://localhost:8080/",
          "height": 317
        }
      },
      "source": [
        "print()\n",
        "print()\n",
        "\n",
        "# Plot train and cross validation error\n",
        "plot_train_cv_loss(trained_model, n_epochs)"
      ],
      "execution_count": 49,
      "outputs": [
        {
          "output_type": "stream",
          "text": [
            "\n",
            "\n"
          ],
          "name": "stdout"
        },
        {
          "output_type": "display_data",
          "data": {
            "image/png": "[encoded data removed]",
            "text/plain": [
              "<Figure size 432x288 with 1 Axes>"
            ]
          },
          "metadata": {
            "tags": [],
            "needs_background": "light"
          }
        }
      ]
    },
    {
      "cell_type": "markdown",
      "metadata": {
        "id": "SINfMKuzYs4g"
      },
      "source": [
        "From epoch 9, we starts to overfit the model, so best value for epoch is 9"
      ]
    },
    {
      "cell_type": "code",
      "metadata": {
        "id": "6GeZUV9_Ys4g",
        "outputId": "a102c524-87a2-43cb-abe6-c61305f47a44",
        "colab": {
          "base_uri": "https://localhost:8080/",
          "height": 782
        }
      },
      "source": [
        "print()\n",
        "scores = model.evaluate(x_test, y_test, verbose=0)\n",
        "print(\"Test Accuracy: %f%%\" % (scores[1]*100))\n",
        "print()\n",
        "\n",
        "Y_true = pd.Series([ACTIVITIES[y] for y in np.argmax(y_test, axis=1)])\n",
        "Y_predictions = pd.Series([ACTIVITIES[y] for y in np.argmax(model.predict(x_test), axis=1)])\n",
        "\n",
        "# Confusion Matrix\n",
        "plot_confusion_matrix_lstm(Y_true, Y_predictions)"
      ],
      "execution_count": 50,
      "outputs": [
        {
          "output_type": "stream",
          "text": [
            "\n",
            "Test Accuracy: 90.872073%\n",
            "\n"
          ],
          "name": "stdout"
        },
        {
          "output_type": "display_data",
          "data": {
            "image/png": "[encoded data removed]",
            "text/plain": [
              "<Figure size 864x720 with 2 Axes>"
            ]
          },
          "metadata": {
            "tags": [],
            "needs_background": "light"
          }
        }
      ]
    },
    {
      "cell_type": "markdown",
      "metadata": {
        "id": "c2zyXLTOYs4h"
      },
      "source": [
        "<br/>\n",
        "<br/>\n",
        "\n",
        "### 48 neurons in LSTM Layer with dropout of 0.70"
      ]
    },
    {
      "cell_type": "code",
      "metadata": {
        "id": "__Ik8qRdYs4h",
        "outputId": "026ec099-d3f9-43b0-9634-385254ca8c35",
        "colab": {
          "base_uri": "https://localhost:8080/",
          "height": 380
        }
      },
      "source": [
        "# Model execution\n",
        "model = Sequential()\n",
        "model.add(LSTM(48, input_shape=(timesteps, input_dim), return_sequences=True, bias_regularizer=reg))\n",
        "model.add(BatchNormalization())\n",
        "model.add(Dropout(0.70))\n",
        "model.add(LSTM(32))\n",
        "model.add(Dropout(0.70))\n",
        "model.add(Dense(n_classes, activation='sigmoid'))\n",
        "print(\"Model Summary: \")\n",
        "model.summary()"
      ],
      "execution_count": 51,
      "outputs": [
        {
          "output_type": "stream",
          "text": [
            "Model Summary: \n",
            "Model: \"sequential_5\"\n",
            "_________________________________________________________________\n",
            "Layer (type)                 Output Shape              Param #   \n",
            "=================================================================\n",
            "lstm_9 (LSTM)                (None, 128, 48)           11136     \n",
            "_________________________________________________________________\n",
            "batch_normalization_4 (Batch (None, 128, 48)           192       \n",
            "_________________________________________________________________\n",
            "dropout_9 (Dropout)          (None, 128, 48)           0         \n",
            "_________________________________________________________________\n",
            "lstm_10 (LSTM)               (None, 32)                10368     \n",
            "_________________________________________________________________\n",
            "dropout_10 (Dropout)         (None, 32)                0         \n",
            "_________________________________________________________________\n",
            "dense_5 (Dense)              (None, 6)                 198       \n",
            "=================================================================\n",
            "Total params: 21,894\n",
            "Trainable params: 21,798\n",
            "Non-trainable params: 96\n",
            "_________________________________________________________________\n"
          ],
          "name": "stdout"
        }
      ]
    },
    {
      "cell_type": "code",
      "metadata": {
        "id": "TkwKGRBCYs4j"
      },
      "source": [
        "model.compile(loss='categorical_crossentropy',\n",
        "          optimizer='adam',\n",
        "          metrics=['accuracy'])"
      ],
      "execution_count": 52,
      "outputs": []
    },
    {
      "cell_type": "code",
      "metadata": {
        "id": "V2012BYWYs4k",
        "outputId": "2c9a5d52-239d-4b46-99e0-a8d4f8e28a59",
        "colab": {
          "base_uri": "https://localhost:8080/",
          "height": 1000
        }
      },
      "source": [
        "start = datetime.now()\n",
        "\n",
        "# Training the model\n",
        "trained_model  = model.fit(x_train,\n",
        "                           y_train,\n",
        "                           batch_size=n_batch,\n",
        "                           validation_data=(x_test, y_test),\n",
        "                           epochs=n_epochs)\n",
        "\n",
        "print(\"\\n Time Taken: \",datetime.now() - start)"
      ],
      "execution_count": 53,
      "outputs": [
        {
          "output_type": "stream",
          "text": [
            "Epoch 1/30\n",
            "460/460 [==============================] - 8s 16ms/step - loss: 1.9596 - accuracy: 0.5271 - val_loss: 1.5811 - val_accuracy: 0.5575\n",
            "Epoch 2/30\n",
            "460/460 [==============================] - 7s 15ms/step - loss: 1.2234 - accuracy: 0.6001 - val_loss: 0.9670 - val_accuracy: 0.6295\n",
            "Epoch 3/30\n",
            "460/460 [==============================] - 7s 15ms/step - loss: 0.8964 - accuracy: 0.6329 - val_loss: 0.7249 - val_accuracy: 0.6444\n",
            "Epoch 4/30\n",
            "460/460 [==============================] - 7s 15ms/step - loss: 0.8049 - accuracy: 0.6347 - val_loss: 0.6915 - val_accuracy: 0.6464\n",
            "Epoch 5/30\n",
            "460/460 [==============================] - 7s 15ms/step - loss: 0.7523 - accuracy: 0.6503 - val_loss: 0.6841 - val_accuracy: 0.6373\n",
            "Epoch 6/30\n",
            "460/460 [==============================] - 7s 16ms/step - loss: 0.7210 - accuracy: 0.6609 - val_loss: 0.6968 - val_accuracy: 0.6210\n",
            "Epoch 7/30\n",
            "460/460 [==============================] - 7s 15ms/step - loss: 0.7029 - accuracy: 0.6683 - val_loss: 0.6353 - val_accuracy: 0.6610\n",
            "Epoch 8/30\n",
            "460/460 [==============================] - 7s 15ms/step - loss: 0.6790 - accuracy: 0.6800 - val_loss: 0.5833 - val_accuracy: 0.7119\n",
            "Epoch 9/30\n",
            "460/460 [==============================] - 7s 15ms/step - loss: 0.6394 - accuracy: 0.7218 - val_loss: 0.5426 - val_accuracy: 0.7682\n",
            "Epoch 10/30\n",
            "460/460 [==============================] - 7s 15ms/step - loss: 0.5965 - accuracy: 0.7497 - val_loss: 0.5195 - val_accuracy: 0.8324\n",
            "Epoch 11/30\n",
            "460/460 [==============================] - 7s 15ms/step - loss: 0.5560 - accuracy: 0.7795 - val_loss: 0.4960 - val_accuracy: 0.8412\n",
            "Epoch 12/30\n",
            "460/460 [==============================] - 7s 15ms/step - loss: 0.4988 - accuracy: 0.8156 - val_loss: 0.3795 - val_accuracy: 0.8877\n",
            "Epoch 13/30\n",
            "460/460 [==============================] - 7s 15ms/step - loss: 0.4906 - accuracy: 0.8177 - val_loss: 0.3863 - val_accuracy: 0.8863\n",
            "Epoch 14/30\n",
            "460/460 [==============================] - 7s 15ms/step - loss: 0.4316 - accuracy: 0.8463 - val_loss: 0.3984 - val_accuracy: 0.8717\n",
            "Epoch 15/30\n",
            "460/460 [==============================] - 7s 15ms/step - loss: 0.4300 - accuracy: 0.8549 - val_loss: 0.3280 - val_accuracy: 0.8999\n",
            "Epoch 16/30\n",
            "460/460 [==============================] - 7s 15ms/step - loss: 0.4081 - accuracy: 0.8674 - val_loss: 0.3977 - val_accuracy: 0.8802\n",
            "Epoch 17/30\n",
            "460/460 [==============================] - 7s 15ms/step - loss: 0.3831 - accuracy: 0.8761 - val_loss: 0.2940 - val_accuracy: 0.8904\n",
            "Epoch 18/30\n",
            "460/460 [==============================] - 7s 15ms/step - loss: 0.3393 - accuracy: 0.8928 - val_loss: 0.2816 - val_accuracy: 0.9074\n",
            "Epoch 19/30\n",
            "460/460 [==============================] - 7s 15ms/step - loss: 0.3468 - accuracy: 0.9032 - val_loss: 0.3283 - val_accuracy: 0.8996\n",
            "Epoch 20/30\n",
            "460/460 [==============================] - 7s 16ms/step - loss: 0.3256 - accuracy: 0.9045 - val_loss: 0.2786 - val_accuracy: 0.9019\n",
            "Epoch 21/30\n",
            "460/460 [==============================] - 7s 15ms/step - loss: 0.2883 - accuracy: 0.9112 - val_loss: 0.2802 - val_accuracy: 0.9040\n",
            "Epoch 22/30\n",
            "460/460 [==============================] - 7s 15ms/step - loss: 0.2998 - accuracy: 0.9098 - val_loss: 0.2762 - val_accuracy: 0.9087\n",
            "Epoch 23/30\n",
            "460/460 [==============================] - 7s 15ms/step - loss: 0.2635 - accuracy: 0.9176 - val_loss: 0.2868 - val_accuracy: 0.9179\n",
            "Epoch 24/30\n",
            "460/460 [==============================] - 7s 15ms/step - loss: 0.2520 - accuracy: 0.9202 - val_loss: 0.2572 - val_accuracy: 0.9172\n",
            "Epoch 25/30\n",
            "460/460 [==============================] - 7s 15ms/step - loss: 0.2452 - accuracy: 0.9188 - val_loss: 0.3032 - val_accuracy: 0.9094\n",
            "Epoch 26/30\n",
            "460/460 [==============================] - 7s 15ms/step - loss: 0.2446 - accuracy: 0.9259 - val_loss: 0.3005 - val_accuracy: 0.9016\n",
            "Epoch 27/30\n",
            "460/460 [==============================] - 7s 15ms/step - loss: 0.2725 - accuracy: 0.9187 - val_loss: 0.2623 - val_accuracy: 0.9165\n",
            "Epoch 28/30\n",
            "460/460 [==============================] - 7s 15ms/step - loss: 0.2295 - accuracy: 0.9241 - val_loss: 0.2725 - val_accuracy: 0.9186\n",
            "Epoch 29/30\n",
            "460/460 [==============================] - 7s 16ms/step - loss: 0.2432 - accuracy: 0.9253 - val_loss: 0.2657 - val_accuracy: 0.9148\n",
            "Epoch 30/30\n",
            "460/460 [==============================] - 7s 15ms/step - loss: 0.3826 - accuracy: 0.8811 - val_loss: 0.8350 - val_accuracy: 0.7947\n",
            "\n",
            " Time Taken:  0:03:30.773907\n"
          ],
          "name": "stdout"
        }
      ]
    },
    {
      "cell_type": "code",
      "metadata": {
        "id": "hyXmlwDaYs4l",
        "outputId": "b271509f-83a2-4c45-fad4-7845a479af5c",
        "colab": {
          "base_uri": "https://localhost:8080/",
          "height": 313
        }
      },
      "source": [
        "print()\n",
        "print()\n",
        "\n",
        "# Plot train and cross validation error\n",
        "plot_train_cv_loss(trained_model, n_epochs)"
      ],
      "execution_count": 54,
      "outputs": [
        {
          "output_type": "stream",
          "text": [
            "\n",
            "\n"
          ],
          "name": "stdout"
        },
        {
          "output_type": "display_data",
          "data": {
            "image/png": "[encoded data removed]",
            "text/plain": [
              "<Figure size 432x288 with 1 Axes>"
            ]
          },
          "metadata": {
            "tags": [],
            "needs_background": "light"
          }
        }
      ]
    },
    {
      "cell_type": "markdown",
      "metadata": {
        "id": "feATjgUoYs4m"
      },
      "source": [
        "From epoch 16, we starts to overfit the model, so best value for epoch is 16"
      ]
    },
    {
      "cell_type": "code",
      "metadata": {
        "id": "YpoZ6yVoYs4m",
        "outputId": "f6fb592c-2505-4e08-fc65-9c5f8ff84b61",
        "colab": {
          "base_uri": "https://localhost:8080/",
          "height": 782
        }
      },
      "source": [
        "print()\n",
        "scores = model.evaluate(x_test, y_test, verbose=0)\n",
        "print(\"Test Accuracy: %f%%\" % (scores[1]*100))\n",
        "print()\n",
        "\n",
        "Y_true = pd.Series([ACTIVITIES[y] for y in np.argmax(y_test, axis=1)])\n",
        "Y_predictions = pd.Series([ACTIVITIES[y] for y in np.argmax(model.predict(x_test), axis=1)])\n",
        "\n",
        "# Confusion Matrix\n",
        "plot_confusion_matrix_lstm(Y_true, Y_predictions)"
      ],
      "execution_count": 55,
      "outputs": [
        {
          "output_type": "stream",
          "text": [
            "\n",
            "Test Accuracy: 79.470646%\n",
            "\n"
          ],
          "name": "stdout"
        },
        {
          "output_type": "display_data",
          "data": {
            "image/png": "[encoded data removed]",
            "text/plain": [
              "<Figure size 864x720 with 2 Axes>"
            ]
          },
          "metadata": {
            "tags": [],
            "needs_background": "light"
          }
        }
      ]
    },
    {
      "cell_type": "markdown",
      "metadata": {
        "id": "AUkEeTJ-Ys4o"
      },
      "source": [
        "<br/>\n",
        "<br/>\n",
        "\n",
        "### 64 neurons in LSTM Layer with dropout of 0.70"
      ]
    },
    {
      "cell_type": "code",
      "metadata": {
        "id": "j3woY-tRYs4o",
        "outputId": "8b1fe126-2da6-413c-981f-2efcd051a7d9",
        "colab": {
          "base_uri": "https://localhost:8080/",
          "height": 380
        }
      },
      "source": [
        "# Model execution\n",
        "model = Sequential()\n",
        "model.add(LSTM(64, input_shape=(timesteps, input_dim), return_sequences=True, bias_regularizer=reg))\n",
        "model.add(BatchNormalization())\n",
        "model.add(Dropout(0.70))\n",
        "model.add(LSTM(48))\n",
        "model.add(Dropout(0.70))\n",
        "model.add(Dense(n_classes, activation='sigmoid'))\n",
        "print(\"Model Summary: \")\n",
        "model.summary()"
      ],
      "execution_count": 56,
      "outputs": [
        {
          "output_type": "stream",
          "text": [
            "Model Summary: \n",
            "Model: \"sequential_6\"\n",
            "_________________________________________________________________\n",
            "Layer (type)                 Output Shape              Param #   \n",
            "=================================================================\n",
            "lstm_11 (LSTM)               (None, 128, 64)           18944     \n",
            "_________________________________________________________________\n",
            "batch_normalization_5 (Batch (None, 128, 64)           256       \n",
            "_________________________________________________________________\n",
            "dropout_11 (Dropout)         (None, 128, 64)           0         \n",
            "_________________________________________________________________\n",
            "lstm_12 (LSTM)               (None, 48)                21696     \n",
            "_________________________________________________________________\n",
            "dropout_12 (Dropout)         (None, 48)                0         \n",
            "_________________________________________________________________\n",
            "dense_6 (Dense)              (None, 6)                 294       \n",
            "=================================================================\n",
            "Total params: 41,190\n",
            "Trainable params: 41,062\n",
            "Non-trainable params: 128\n",
            "_________________________________________________________________\n"
          ],
          "name": "stdout"
        }
      ]
    },
    {
      "cell_type": "code",
      "metadata": {
        "id": "5uNaMyejYs4p"
      },
      "source": [
        "model.compile(loss='categorical_crossentropy',\n",
        "          optimizer='adam',\n",
        "          metrics=['accuracy'])"
      ],
      "execution_count": 57,
      "outputs": []
    },
    {
      "cell_type": "code",
      "metadata": {
        "id": "ixOv5Qw1Ys4p",
        "outputId": "9edc9be5-f926-4931-8bbe-694f3660138c",
        "colab": {
          "base_uri": "https://localhost:8080/",
          "height": 1000
        }
      },
      "source": [
        "start = datetime.now()\n",
        "\n",
        "# Training the model\n",
        "trained_model  = model.fit(x_train,\n",
        "                           y_train,\n",
        "                           batch_size=n_batch,\n",
        "                           validation_data=(x_test, y_test),\n",
        "                           epochs=n_epochs)\n",
        "\n",
        "print(\"\\n Time Taken: \",datetime.now() - start)"
      ],
      "execution_count": 58,
      "outputs": [
        {
          "output_type": "stream",
          "text": [
            "Epoch 1/30\n",
            "460/460 [==============================] - 8s 17ms/step - loss: 2.0315 - accuracy: 0.5717 - val_loss: 1.6315 - val_accuracy: 0.5619\n",
            "Epoch 2/30\n",
            "460/460 [==============================] - 7s 15ms/step - loss: 1.1652 - accuracy: 0.6438 - val_loss: 0.8871 - val_accuracy: 0.6603\n",
            "Epoch 3/30\n",
            "460/460 [==============================] - 8s 16ms/step - loss: 0.7924 - accuracy: 0.6846 - val_loss: 0.6785 - val_accuracy: 0.7669\n",
            "Epoch 4/30\n",
            "460/460 [==============================] - 7s 15ms/step - loss: 0.6477 - accuracy: 0.7199 - val_loss: 0.6387 - val_accuracy: 0.7648\n",
            "Epoch 5/30\n",
            "460/460 [==============================] - 7s 16ms/step - loss: 0.5138 - accuracy: 0.8005 - val_loss: 0.5723 - val_accuracy: 0.8124\n",
            "Epoch 6/30\n",
            "460/460 [==============================] - 7s 15ms/step - loss: 0.4437 - accuracy: 0.8409 - val_loss: 0.4095 - val_accuracy: 0.8704\n",
            "Epoch 7/30\n",
            "460/460 [==============================] - 7s 15ms/step - loss: 0.3600 - accuracy: 0.8847 - val_loss: 0.3364 - val_accuracy: 0.8833\n",
            "Epoch 8/30\n",
            "460/460 [==============================] - 7s 15ms/step - loss: 0.2988 - accuracy: 0.9095 - val_loss: 0.5535 - val_accuracy: 0.8062\n",
            "Epoch 9/30\n",
            "460/460 [==============================] - 8s 17ms/step - loss: 0.3224 - accuracy: 0.9025 - val_loss: 0.3158 - val_accuracy: 0.8772\n",
            "Epoch 10/30\n",
            "460/460 [==============================] - 7s 16ms/step - loss: 0.2813 - accuracy: 0.9146 - val_loss: 0.3093 - val_accuracy: 0.9057\n",
            "Epoch 11/30\n",
            "460/460 [==============================] - 7s 15ms/step - loss: 0.2210 - accuracy: 0.9263 - val_loss: 0.2566 - val_accuracy: 0.9152\n",
            "Epoch 12/30\n",
            "460/460 [==============================] - 7s 16ms/step - loss: 0.2929 - accuracy: 0.9011 - val_loss: 0.3807 - val_accuracy: 0.8670\n",
            "Epoch 13/30\n",
            "460/460 [==============================] - 7s 16ms/step - loss: 0.2474 - accuracy: 0.9203 - val_loss: 0.2782 - val_accuracy: 0.9118\n",
            "Epoch 14/30\n",
            "460/460 [==============================] - 7s 16ms/step - loss: 0.2116 - accuracy: 0.9282 - val_loss: 0.3200 - val_accuracy: 0.9040\n",
            "Epoch 15/30\n",
            "460/460 [==============================] - 7s 15ms/step - loss: 0.1978 - accuracy: 0.9348 - val_loss: 0.3129 - val_accuracy: 0.9165\n",
            "Epoch 16/30\n",
            "460/460 [==============================] - 7s 15ms/step - loss: 0.1989 - accuracy: 0.9366 - val_loss: 0.4057 - val_accuracy: 0.9009\n",
            "Epoch 17/30\n",
            "460/460 [==============================] - 7s 15ms/step - loss: 0.2000 - accuracy: 0.9327 - val_loss: 0.3428 - val_accuracy: 0.9016\n",
            "Epoch 18/30\n",
            "460/460 [==============================] - 7s 15ms/step - loss: 0.1878 - accuracy: 0.9380 - val_loss: 0.3021 - val_accuracy: 0.9155\n",
            "Epoch 19/30\n",
            "460/460 [==============================] - 7s 15ms/step - loss: 0.1915 - accuracy: 0.9376 - val_loss: 0.4573 - val_accuracy: 0.8965\n",
            "Epoch 20/30\n",
            "460/460 [==============================] - 7s 16ms/step - loss: 0.2205 - accuracy: 0.9293 - val_loss: 0.3233 - val_accuracy: 0.8914\n",
            "Epoch 21/30\n",
            "460/460 [==============================] - 7s 15ms/step - loss: 0.2022 - accuracy: 0.9331 - val_loss: 0.3237 - val_accuracy: 0.9131\n",
            "Epoch 22/30\n",
            "460/460 [==============================] - 7s 15ms/step - loss: 0.1816 - accuracy: 0.9399 - val_loss: 0.3150 - val_accuracy: 0.9189\n",
            "Epoch 23/30\n",
            "460/460 [==============================] - 7s 15ms/step - loss: 0.1713 - accuracy: 0.9403 - val_loss: 0.3601 - val_accuracy: 0.9141\n",
            "Epoch 24/30\n",
            "460/460 [==============================] - 7s 15ms/step - loss: 0.1723 - accuracy: 0.9396 - val_loss: 0.4187 - val_accuracy: 0.9033\n",
            "Epoch 25/30\n",
            "460/460 [==============================] - 7s 15ms/step - loss: 0.1777 - accuracy: 0.9391 - val_loss: 0.3676 - val_accuracy: 0.9145\n",
            "Epoch 26/30\n",
            "460/460 [==============================] - 7s 16ms/step - loss: 0.1560 - accuracy: 0.9483 - val_loss: 0.4509 - val_accuracy: 0.9087\n",
            "Epoch 27/30\n",
            "460/460 [==============================] - 7s 15ms/step - loss: 0.1791 - accuracy: 0.9393 - val_loss: 0.3146 - val_accuracy: 0.9162\n",
            "Epoch 28/30\n",
            "460/460 [==============================] - 7s 15ms/step - loss: 0.1728 - accuracy: 0.9395 - val_loss: 0.4222 - val_accuracy: 0.8921\n",
            "Epoch 29/30\n",
            "460/460 [==============================] - 7s 15ms/step - loss: 0.2133 - accuracy: 0.9327 - val_loss: 0.3972 - val_accuracy: 0.9057\n",
            "Epoch 30/30\n",
            "460/460 [==============================] - 7s 15ms/step - loss: 0.1628 - accuracy: 0.9380 - val_loss: 0.3538 - val_accuracy: 0.9192\n",
            "\n",
            " Time Taken:  0:03:35.542015\n"
          ],
          "name": "stdout"
        }
      ]
    },
    {
      "cell_type": "code",
      "metadata": {
        "id": "wKwbCvaPYs4q",
        "outputId": "bb546fab-6c3e-4fbc-9203-c1b14bec58d9",
        "colab": {
          "base_uri": "https://localhost:8080/",
          "height": 313
        }
      },
      "source": [
        "print()\n",
        "print()\n",
        "\n",
        "# Plot train and cross validation error\n",
        "plot_train_cv_loss(trained_model, n_epochs)"
      ],
      "execution_count": 59,
      "outputs": [
        {
          "output_type": "stream",
          "text": [
            "\n",
            "\n"
          ],
          "name": "stdout"
        },
        {
          "output_type": "display_data",
          "data": {
            "image/png": "[encoded data removed]",
            "text/plain": [
              "<Figure size 432x288 with 1 Axes>"
            ]
          },
          "metadata": {
            "tags": [],
            "needs_background": "light"
          }
        }
      ]
    },
    {
      "cell_type": "markdown",
      "metadata": {
        "id": "JFo7DqomYs4r"
      },
      "source": [
        "From epoch 7, we starts to overfit the model, so best value for epoch is 7"
      ]
    },
    {
      "cell_type": "code",
      "metadata": {
        "id": "4e0gNSrbYs4r",
        "outputId": "ea553a49-ac57-4ba6-a962-01807a8e9282",
        "colab": {
          "base_uri": "https://localhost:8080/",
          "height": 782
        }
      },
      "source": [
        "print()\n",
        "scores = model.evaluate(x_test, y_test, verbose=0)\n",
        "print(\"Test Accuracy: %f%%\" % (scores[1]*100))\n",
        "print()\n",
        "\n",
        "Y_true = pd.Series([ACTIVITIES[y] for y in np.argmax(y_test, axis=1)])\n",
        "Y_predictions = pd.Series([ACTIVITIES[y] for y in np.argmax(model.predict(x_test), axis=1)])\n",
        "\n",
        "# Confusion Matrix\n",
        "plot_confusion_matrix_lstm(Y_true, Y_predictions)"
      ],
      "execution_count": 60,
      "outputs": [
        {
          "output_type": "stream",
          "text": [
            "\n",
            "Test Accuracy: 91.923988%\n",
            "\n"
          ],
          "name": "stdout"
        },
        {
          "output_type": "display_data",
          "data": {
            "image/png": "[encoded data removed]",
            "text/plain": [
              "<Figure size 864x720 with 2 Axes>"
            ]
          },
          "metadata": {
            "tags": [],
            "needs_background": "light"
          }
        }
      ]
    },
    {
      "cell_type": "markdown",
      "metadata": {
        "id": "2C1bQPtCYs4s"
      },
      "source": [
        "<h2> Conclusion </h2>"
      ]
    },
    {
      "cell_type": "code",
      "metadata": {
        "id": "P51m5kScYs4s",
        "outputId": "2ffc001c-a9a3-400f-8273-5371dd46da3f",
        "colab": {
          "base_uri": "https://localhost:8080/",
          "height": 224
        }
      },
      "source": [
        "from prettytable import PrettyTable\n",
        "ptable = PrettyTable()\n",
        "ptable.title = \" Model Comparision \"\n",
        "ptable.field_names = [\"LSTM Layers\",'No. of Neurons in LSTM Layer','Dropout', 'Best Epoch']\n",
        "ptable.add_row([\"2\",\"32\",\"0.50\",\"10\"])\n",
        "ptable.add_row([\"2\",\"48\",\"0.50\",\"7\"])\n",
        "ptable.add_row([\"2\",\"64\",\"0.50\",\"8\"])\n",
        "ptable.add_row([\"\\n\",\"\\n\",\"\\n\",\"\\n\"])\n",
        "ptable.add_row([\"2\",\"32\",\"0.70\",\"9\"])\n",
        "ptable.add_row([\"2\",\"48\",\"0.70\",\"16\"])\n",
        "ptable.add_row([\"2\",\"64\",\"0.70\",\"7\"])\n",
        "print(ptable)"
      ],
      "execution_count": 61,
      "outputs": [
        {
          "output_type": "stream",
          "text": [
            "+-------------+------------------------------+---------+------------+\n",
            "| LSTM Layers | No. of Neurons in LSTM Layer | Dropout | Best Epoch |\n",
            "+-------------+------------------------------+---------+------------+\n",
            "|      2      |              32              |   0.50  |     10     |\n",
            "|      2      |              48              |   0.50  |     7      |\n",
            "|      2      |              64              |   0.50  |     8      |\n",
            "|             |                              |         |            |\n",
            "|             |                              |         |            |\n",
            "|      2      |              32              |   0.70  |     9      |\n",
            "|      2      |              48              |   0.70  |     16     |\n",
            "|      2      |              64              |   0.70  |     7      |\n",
            "+-------------+------------------------------+---------+------------+\n"
          ],
          "name": "stdout"
        }
      ]
    },
    {
      "cell_type": "markdown",
      "metadata": {
        "id": "CoDs6SQoYs4t"
      },
      "source": [
        "From all the plots, we have observed that 64 neurons with 0.50 dropout rate will be the good choice, among all the models."
      ]
    }
  ]
}